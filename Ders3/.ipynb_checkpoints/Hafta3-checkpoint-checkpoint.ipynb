{
 "cells": [
  {
   "cell_type": "code",
   "execution_count": 1,
   "id": "b5462aba",
   "metadata": {},
   "outputs": [],
   "source": [
    "### Sürekli Dağılım\n",
    "# Bir otobüs durağından her 12 dakikada bir geliyor. \n",
    "#Yani rastgele bir saatte gelirseniz bir süre bekleyebilirsiniz. Otobüs tam durağa gelirken sıfır dakikadan, 12 dakikaya kadar beklemek gerekebilir\n",
    "#BU olasılığı temsil etmek için sürekli bir igi kullanılır. danmn 12e kadar sürekli bir süre bekleme olasılığı olduğundu aynı olduğu çizgi düzdür.\n",
    "# BU dağılımda grafiğin altında kalan alan = olasılık denilebilir.\n",
    "#P(4 dakika <= bekleme zamanı <= 7) = (7-4) * 1 / 12\n",
    "#P(bekleme zamanı <=7) = (7 - 0) * 1 / 12"
   ]
  },
  {
   "cell_type": "code",
   "execution_count": 2,
   "id": "2eff86d4",
   "metadata": {},
   "outputs": [],
   "source": [
    "#Bimodal Distributions = Bazı değerlerin diğerlerinden daha yüksek olasılığa sahip olduğu tekdüze olmayan biçimlerdir.\n",
    "# Farklı özelliklere sahip kitapların fiyat dağılımları örnek verilebilir. Ciltli ciltsiz fiyat gibi\n",
    "\n",
    "#Normal dağılım = Çan eğrisi şeklindedir ve simetriktir. Tansiyon ve emeklilik yaşı gibi örnekler verilebilir.\n",
    "\n",
    "# Olasılık grafiğinin altındaki alan her zaman 1 i verir."
   ]
  },
  {
   "cell_type": "code",
   "execution_count": 6,
   "id": "b836004e",
   "metadata": {},
   "outputs": [
    {
     "ename": "NameError",
     "evalue": "name 'scipy' is not defined",
     "output_type": "error",
     "traceback": [
      "\u001b[1;31m---------------------------------------------------------------------------\u001b[0m",
      "\u001b[1;31mNameError\u001b[0m                                 Traceback (most recent call last)",
      "Cell \u001b[1;32mIn[6], line 1\u001b[0m\n\u001b[1;32m----> 1\u001b[0m scipy\u001b[38;5;241m.\u001b[39mstats\u001b[38;5;241m.\u001b[39muniform(x,loc\u001b[38;5;241m=\u001b[39m\u001b[38;5;241m0\u001b[39m,scale\u001b[38;5;241m=\u001b[39m\u001b[38;5;241m1\u001b[39m)\n",
      "\u001b[1;31mNameError\u001b[0m: name 'scipy' is not defined"
     ]
    }
   ],
   "source": [
    "scipy.stats.uniform(x,loc=0,scale=1) # Değeri x'e kadar olan olasılığı hesaplamak için kullanılır.\n",
    "# loc dağılımın başlangıç noktasını belirler. (Varsayılan 0)\n",
    "# scale dağılımın genişliğini ve aralığını belirler. (Varsayılan 1)"
   ]
  },
  {
   "cell_type": "code",
   "execution_count": 8,
   "id": "7a5d77cc",
   "metadata": {},
   "outputs": [
    {
     "data": {
      "text/plain": [
       "0.5833333333333334"
      ]
     },
     "execution_count": 8,
     "metadata": {},
     "output_type": "execute_result"
    }
   ],
   "source": [
    "# P(wait_time<=7)\n",
    "from scipy.stats import uniform\n",
    "uniform.cdf(7,0,12) # Uniform dağılım kullanarak bir değerin kümülatif dağılım fonksiyonunu hesaplar. (CDF)"
   ]
  },
  {
   "cell_type": "code",
   "execution_count": 9,
   "id": "81ca6f25",
   "metadata": {},
   "outputs": [
    {
     "data": {
      "text/plain": [
       "0.41666666666666663"
      ]
     },
     "execution_count": 9,
     "metadata": {},
     "output_type": "execute_result"
    }
   ],
   "source": [
    "# P(wait_time >= 7) = 1 - P(Wait_time <=7)\n",
    "1-uniform.cdf(7,0,12)"
   ]
  },
  {
   "cell_type": "code",
   "execution_count": 10,
   "id": "54a531a7",
   "metadata": {},
   "outputs": [
    {
     "data": {
      "text/plain": [
       "0.25000000000000006"
      ]
     },
     "execution_count": 10,
     "metadata": {},
     "output_type": "execute_result"
    }
   ],
   "source": [
    "# P(4<= wait_time <=7)\n",
    "# P(4<= wait_time <=7) = P(wait_time <=7) - P(wait_time <=4) \n",
    "uniform.cdf(7,0,12)-uniform.cdf(4,0,12) # 1. Yol"
   ]
  },
  {
   "cell_type": "code",
   "execution_count": 11,
   "id": "f699bacb",
   "metadata": {},
   "outputs": [
    {
     "data": {
      "text/plain": [
       "0.25"
      ]
     },
     "execution_count": 11,
     "metadata": {},
     "output_type": "execute_result"
    }
   ],
   "source": [
    "uniform.cdf(7,4,12) # 2. Yol"
   ]
  },
  {
   "cell_type": "code",
   "execution_count": 12,
   "id": "808379ac",
   "metadata": {},
   "outputs": [
    {
     "data": {
      "text/plain": [
       "1.0"
      ]
     },
     "execution_count": 12,
     "metadata": {},
     "output_type": "execute_result"
    }
   ],
   "source": [
    "# P(0 <= wait_time <= 12)\n",
    "uniform.cdf(12,0,12)"
   ]
  },
  {
   "cell_type": "code",
   "execution_count": 13,
   "id": "d3013f43",
   "metadata": {},
   "outputs": [
    {
     "data": {
      "text/plain": [
       "array([0.06801279, 3.83004887, 3.49417312, 2.28891472, 3.78602683,\n",
       "       3.04616277, 3.09468821, 2.09989569, 4.82222641, 4.94190707])"
      ]
     },
     "execution_count": 13,
     "metadata": {},
     "output_type": "execute_result"
    }
   ],
   "source": [
    "uniform.rvs(0,5,size=10) # Uniform dağılıma göre rastgele sayılar üretir."
   ]
  },
  {
   "cell_type": "code",
   "execution_count": 14,
   "id": "d24453c8",
   "metadata": {},
   "outputs": [],
   "source": [
    "# Uniform dağılım, istatistik ve olasılık teorisinde, belirli bir aralıktaki her değerin eşit olasılıkla gerçekleştiği bir \n",
    "# dağılım türüdür. Bu dağılım, \"düzgün dağılım\" olarak da bilinir."
   ]
  },
  {
   "cell_type": "code",
   "execution_count": 15,
   "id": "45d0810d",
   "metadata": {},
   "outputs": [],
   "source": [
    "### Bİnominal Dağılım\n",
    "# Bir dizi bağımsız denemedi başarı sayınını olasılığını tanımlar\n",
    "# İstenilen kadar yazı tura atmak\n",
    "# n= gerçekleştirdiğimiz etkinlik sayısı(kaç kez para attığımız)\n",
    "# p = Başarı adedi"
   ]
  },
  {
   "cell_type": "code",
   "execution_count": 16,
   "id": "f818267a",
   "metadata": {},
   "outputs": [],
   "source": [
    "# Expected Value = n * p\n",
    "# Yukarıdaki örnek için expected value = 10 * 0.5 = 5"
   ]
  },
  {
   "cell_type": "code",
   "execution_count": 17,
   "id": "80401821",
   "metadata": {},
   "outputs": [],
   "source": [
    "# Yukarıdaki olayda çektiğimizii yerine koyduğumuzdan ihtimal yüzzde 50dir.\n",
    "# #Ancak yerine koymazsak ihtimal değişir"
   ]
  },
  {
   "cell_type": "code",
   "execution_count": 18,
   "id": "a2fe2895",
   "metadata": {},
   "outputs": [
    {
     "data": {
      "text/plain": [
       "array([1, 0, 0, 0, 0, 1, 0, 1], dtype=int64)"
      ]
     },
     "execution_count": 18,
     "metadata": {},
     "output_type": "execute_result"
    }
   ],
   "source": [
    "from scipy.stats import binom\n",
    "binom.rvs(1,0.5,size=8) # Bir madeni paranın 8 kere havaya atıldığında yazı ya da tura gelmesi olasılığı gibi."
   ]
  },
  {
   "cell_type": "code",
   "execution_count": 19,
   "id": "1e126263",
   "metadata": {},
   "outputs": [
    {
     "data": {
      "text/plain": [
       "array([5], dtype=int64)"
      ]
     },
     "execution_count": 19,
     "metadata": {},
     "output_type": "execute_result"
    }
   ],
   "source": [
    "binom.rvs(8,0.5,size=1) # 8 paranın aynı anda bir kere havaya atılması sonucu yazı gelme olasılığı 1 ise 5 kere yazı gelmiş."
   ]
  },
  {
   "cell_type": "code",
   "execution_count": 20,
   "id": "d48c0d6b",
   "metadata": {},
   "outputs": [
    {
     "data": {
      "text/plain": [
       "array([2, 0, 0, 1, 1, 2, 1, 1, 2, 1], dtype=int64)"
      ]
     },
     "execution_count": 20,
     "metadata": {},
     "output_type": "execute_result"
    }
   ],
   "source": [
    "binom.rvs(3,0.5,size=10) # 3 para aynı anda 10 kere havaya atılıyor."
   ]
  },
  {
   "cell_type": "code",
   "execution_count": 21,
   "id": "b59bd2a9",
   "metadata": {},
   "outputs": [
    {
     "data": {
      "text/plain": [
       "array([1, 0, 0, 0, 0, 0, 2, 0, 1, 0], dtype=int64)"
      ]
     },
     "execution_count": 21,
     "metadata": {},
     "output_type": "execute_result"
    }
   ],
   "source": [
    "binom.rvs(3,0.25,size=10) # 3 para aynı anda 10 kere havaya atılıyor ama bu sefer yazı gelme olasılığı 0.25 (Paranın bir yüzü\n",
    "# daha ağır gibi düşünülebilir.) "
   ]
  },
  {
   "cell_type": "code",
   "execution_count": 22,
   "id": "c73f4426",
   "metadata": {},
   "outputs": [
    {
     "data": {
      "text/plain": [
       "0.11718749999999999"
      ]
     },
     "execution_count": 22,
     "metadata": {},
     "output_type": "execute_result"
    }
   ],
   "source": [
    "binom.pmf(7,10,0.5) # 10 paranın 7'sinin yazı gelme olasılığını direkt hesaplar."
   ]
  },
  {
   "cell_type": "code",
   "execution_count": 24,
   "id": "5f17d5f5",
   "metadata": {},
   "outputs": [
    {
     "data": {
      "text/plain": [
       "0.9453125"
      ]
     },
     "execution_count": 24,
     "metadata": {},
     "output_type": "execute_result"
    }
   ],
   "source": [
    "binom.cdf(7,10,0.5) # 7 veya da az yazı gelme olasılığı.\n",
    "# cdf altta kalan alanı hesaplar. "
   ]
  },
  {
   "cell_type": "code",
   "execution_count": 25,
   "id": "caae9b60",
   "metadata": {},
   "outputs": [
    {
     "data": {
      "text/plain": [
       "0.0546875"
      ]
     },
     "execution_count": 25,
     "metadata": {},
     "output_type": "execute_result"
    }
   ],
   "source": [
    "1 - binom.cdf(7,10,0.5) # 7'den fazla yazı gelme olasılığı."
   ]
  },
  {
   "cell_type": "code",
   "execution_count": 26,
   "id": "92f00dd4",
   "metadata": {},
   "outputs": [],
   "source": [
    "# Normal Dağılım:\n",
    "# Çan eğrisi şeklindedir. Simetriktir. Herhangi bir olasılık dağılımı gibi,eğrinin altında kalan alan 1'e eşittir.\n",
    "# Uçları hiçbir zaman 0 a dokunmaz\n",
    "# outlier diyeiblmek için x > Ortalama - 3 standart sapma veya x>ortalama + 3 standart sapma şeklinde olması yeterlidir.\n",
    "# Ortalaması 0 ve standart sapması 1 olan dağılıma standart normal dağılım denir."
   ]
  },
  {
   "cell_type": "code",
   "execution_count": 29,
   "id": "7c5054a9",
   "metadata": {},
   "outputs": [
    {
     "data": {
      "text/plain": [
       "0.15865525393145707"
      ]
     },
     "execution_count": 29,
     "metadata": {},
     "output_type": "execute_result"
    }
   ],
   "source": [
    "#Örneğin ortalaması 161cm ve standart sapması 7 olan bir normal dağılım düşünlim. Bu kadınların boylarına ait dağılım olsun.\n",
    "#BU kadınların % kaçının 154cmen kısa olduğunu bulmak isteyelim\n",
    "from scipy.stats import norm\n",
    "norm.cdf(154,161,7)\n",
    "# Bu kod, scipy.stats kütüphanesinden norm (normal dağılım) sınıfının cdf \n",
    "# (Cumulative Distribution Function - Kümülatif Dağılım Fonksiyonu) fonksiyonunu kullanarak, belirli bir değerin standart normal \n",
    "# dağılımda sol tarafında kalan alanı, yani o değere kadar olan toplam olasılığı hesaplar."
   ]
  },
  {
   "cell_type": "code",
   "execution_count": 30,
   "id": "61598b71",
   "metadata": {},
   "outputs": [
    {
     "data": {
      "text/plain": [
       "0.8413447460685429"
      ]
     },
     "execution_count": 30,
     "metadata": {},
     "output_type": "execute_result"
    }
   ],
   "source": [
    "1 - norm.cdf(154,161,7) # 154'ten uzun olanların yüzdesi."
   ]
  },
  {
   "cell_type": "code",
   "execution_count": 31,
   "id": "18976076",
   "metadata": {},
   "outputs": [
    {
     "data": {
      "text/plain": [
       "0.1251993291672192"
      ]
     },
     "execution_count": 31,
     "metadata": {},
     "output_type": "execute_result"
    }
   ],
   "source": [
    "norm.cdf(157,161,7) - norm.cdf(154,161,7) # 154 ve 157 cm arasında olanların yüzdesi. "
   ]
  },
  {
   "cell_type": "code",
   "execution_count": 32,
   "id": "94326586",
   "metadata": {},
   "outputs": [],
   "source": [
    "# CDF: Belirli bir değerin altında kalma olasılığını bulur"
   ]
  },
  {
   "cell_type": "code",
   "execution_count": 33,
   "id": "7f707c0e",
   "metadata": {},
   "outputs": [
    {
     "data": {
      "text/plain": [
       "169.9708609588122"
      ]
     },
     "execution_count": 33,
     "metadata": {},
     "output_type": "execute_result"
    }
   ],
   "source": [
    "norm.ppf(0.9,161,7) # Kadınların %90'ı 169.97'den kısadır."
   ]
  },
  {
   "cell_type": "code",
   "execution_count": 35,
   "id": "59423ba9",
   "metadata": {},
   "outputs": [
    {
     "data": {
      "text/plain": [
       "152.0291390411878"
      ]
     },
     "execution_count": 35,
     "metadata": {},
     "output_type": "execute_result"
    }
   ],
   "source": [
    "norm.ppf((1-0.9),161,7) # Kadınların %90'ı 152.02'den uzundur."
   ]
  },
  {
   "cell_type": "code",
   "execution_count": 36,
   "id": "80468274",
   "metadata": {},
   "outputs": [
    {
     "data": {
      "text/plain": [
       "array([198.36441779, 197.81387841, 196.0842927 , 182.93591444,\n",
       "       180.43792465, 179.41741998, 185.34081722, 183.07238547,\n",
       "       191.9215635 , 205.64330933])"
      ]
     },
     "execution_count": 36,
     "metadata": {},
     "output_type": "execute_result"
    }
   ],
   "source": [
    "norm.rvs(191,7,size=10) # Ortalaması 191 ve standart sapması 7 olan bir normal dağılımdan rastgele 10 değer üretir."
   ]
  },
  {
   "cell_type": "code",
   "execution_count": 37,
   "id": "891d6903",
   "metadata": {},
   "outputs": [],
   "source": [
    "# Skawness(Çarpıklık)\n",
    "# Veri dapılımı yıunlarken verilerin sona erdiği yönü tanımlayan çarpıklık terimi kullannılır\n",
    "# Eğer sağa yatıksa pozitif sola yatıksa negatif skewed vardır."
   ]
  },
  {
   "cell_type": "code",
   "execution_count": 38,
   "id": "aa161db7",
   "metadata": {},
   "outputs": [],
   "source": [
    "#Kurtosis(Basıklık)"
   ]
  },
  {
   "cell_type": "code",
   "execution_count": 39,
   "id": "7890f4d4",
   "metadata": {},
   "outputs": [],
   "source": [
    "# Kurtosis, bir dağılımın \"basıklık\" ya da \"çıkıklık\" derecesini ölçen bir istatistiksel terimdir. \n",
    "# Bir dağılımın uç değerlerine (kuyruklarına) olan duyarlılığını belirleyerek, veri setindeki aşırı değerlerin yoğunluğunu ve \n",
    "# bu değerlerin dağılımın merkezi etrafındaki yığılma biçimini analiz eder.\n",
    "# Normal (Mesokurtik) Dağılım: ir normal dağılımın kurtosis değeri genellikle sıfır olarak kabul edilir.\n",
    "# Verilerin kuyruk yapısı ve merkezi, standart normal dağılıma benzerdir.\n",
    "# Pozitif Kurtosis (Leptokurtik):\n",
    "# Dağılımın kuyrukları daha ağır, merkezi ise daha sivridir.\n",
    "# Pozitif basıklık değeri (0'dan büyük) aşırı uçlardaki verilerin daha fazla olduğunu gösterir.\n",
    "# Böyle dağılımlar, uç değerlere daha yatkındır.\n",
    "# Negatif Kurtosis (Platykurtic):\n",
    "# Dağılımın kuyrukları daha hafif, merkezi ise daha yayvandır.\n",
    "# Negatif basıklık değeri (0'dan küçük) uç değerlerin daha az olduğu, veri noktalarının dağılımın merkezine yakın bir şekilde \n",
    "# daha yaygın yığıldığı anlamına gelir."
   ]
  },
  {
   "cell_type": "code",
   "execution_count": 53,
   "id": "41811294",
   "metadata": {},
   "outputs": [
    {
     "data": {
      "text/plain": [
       "4    5\n",
       "1    2\n",
       "3    4\n",
       "1    2\n",
       "3    4\n",
       "dtype: int64"
      ]
     },
     "execution_count": 53,
     "metadata": {},
     "output_type": "execute_result"
    }
   ],
   "source": [
    "import pandas as pd\n",
    "import numpy as np\n",
    "die=pd.Series([1,2,3,4,5,6])\n",
    "samp_5=die.sample(5,replace=True) # Sample : Örnek\n",
    "samp_5 # Bu kodu 6 yüzeyi olan bir zarın 5 kere atılması sonucunda çıkan sonuçlar olarak yorumlayabiliriz.\n",
    "# replace=True olursa aynı değer birden fazla kez çıkabilir."
   ]
  },
  {
   "cell_type": "code",
   "execution_count": 46,
   "id": "27d2a9e2",
   "metadata": {},
   "outputs": [
    {
     "data": {
      "text/plain": [
       "4.8"
      ]
     },
     "execution_count": 46,
     "metadata": {},
     "output_type": "execute_result"
    }
   ],
   "source": [
    "samp_5.mean()"
   ]
  },
  {
   "cell_type": "code",
   "execution_count": 61,
   "id": "3f5ef098",
   "metadata": {},
   "outputs": [
    {
     "data": {
      "text/plain": [
       "(array([1., 0., 0., 0., 2., 0., 1., 3., 0., 3.]),\n",
       " array([2.  , 2.24, 2.48, 2.72, 2.96, 3.2 , 3.44, 3.68, 3.92, 4.16, 4.4 ]),\n",
       " <BarContainer object of 10 artists>)"
      ]
     },
     "execution_count": 61,
     "metadata": {},
     "output_type": "execute_result"
    },
    {
     "data": {
      "image/png": "[encoded data removed]",
      "text/plain": [
       "<Figure size 640x480 with 1 Axes>"
      ]
     },
     "metadata": {},
     "output_type": "display_data"
    }
   ],
   "source": [
    "import matplotlib.pyplot as plt\n",
    "sample_means=[]\n",
    "for i in range(10):\n",
    "    samp_5=die.sample(5,replace=True)\n",
    "    sample_means.append(samp_5.mean()) # Listeye ekleme.\n",
    "plt.title(\"\")\n",
    "plt.hist(sample_means) # Histogram grafiği çizer.\n",
    "# Yukarıdaki işlem 10 defa yapılıp ortalama alınırsa.\n",
    "# Böyle bir örneklem istatistiğinin dağılımına örneklem dağılımı denir"
   ]
  },
  {
   "cell_type": "code",
   "execution_count": 62,
   "id": "2aa8e368",
   "metadata": {},
   "outputs": [
    {
     "data": {
      "text/plain": [
       "(array([ 2.,  1.,  5.,  8., 22., 20.,  5., 20.,  9.,  8.]),\n",
       " array([1.6 , 1.94, 2.28, 2.62, 2.96, 3.3 , 3.64, 3.98, 4.32, 4.66, 5.  ]),\n",
       " <BarContainer object of 10 artists>)"
      ]
     },
     "execution_count": 62,
     "metadata": {},
     "output_type": "execute_result"
    },
    {
     "data": {
      "image/png": "[encoded data removed]",
      "text/plain": [
       "<Figure size 640x480 with 1 Axes>"
      ]
     },
     "metadata": {},
     "output_type": "display_data"
    }
   ],
   "source": [
    "import matplotlib.pyplot as plt\n",
    "sample_means=[]\n",
    "for i in range(100):\n",
    "    samp_5=die.sample(5,replace=True)\n",
    "    sample_means.append(samp_5.mean())\n",
    "plt.title(\"Örneklem Oran Örneklem Dağılımı\")\n",
    "plt.hist(sample_means)"
   ]
  },
  {
   "cell_type": "code",
   "execution_count": 63,
   "id": "26d2d6df",
   "metadata": {},
   "outputs": [
    {
     "data": {
      "text/plain": [
       "(array([  2.,  10.,  76., 139., 193., 294., 138., 116.,  22.,  10.]),\n",
       " array([1.  , 1.48, 1.96, 2.44, 2.92, 3.4 , 3.88, 4.36, 4.84, 5.32, 5.8 ]),\n",
       " <BarContainer object of 10 artists>)"
      ]
     },
     "execution_count": 63,
     "metadata": {},
     "output_type": "execute_result"
    },
    {
     "data": {
      "image/png": "[encoded data removed]",
      "text/plain": [
       "<Figure size 640x480 with 1 Axes>"
      ]
     },
     "metadata": {},
     "output_type": "display_data"
    }
   ],
   "source": [
    "import matplotlib.pyplot as plt\n",
    "sample_means=[]\n",
    "for i in range(1000):\n",
    "    samp_5=die.sample(5,replace=True)\n",
    "    sample_means.append(samp_5.mean())\n",
    "plt.title(\"Örneklem Oran Örneklem Dağılımı\")\n",
    "plt.hist(sample_means)"
   ]
  },
  {
   "cell_type": "code",
   "execution_count": 67,
   "id": "299357ea",
   "metadata": {},
   "outputs": [
    {
     "data": {
      "text/plain": [
       "1     Brian\n",
       "0      Amir\n",
       "1     Brian\n",
       "0      Amir\n",
       "2    Claire\n",
       "2    Claire\n",
       "1     Brian\n",
       "1     Brian\n",
       "1     Brian\n",
       "1     Brian\n",
       "dtype: object"
      ]
     },
     "execution_count": 67,
     "metadata": {},
     "output_type": "execute_result"
    }
   ],
   "source": [
    "import pandas as pd\n",
    "sales_team=pd.Series([\"Amir\", \"Brian\", \"Claire\", \"Damian\"])\n",
    "sales_team.sample(10,replace=True)"
   ]
  },
  {
   "cell_type": "code",
   "execution_count": 71,
   "id": "926eedc0",
   "metadata": {},
   "outputs": [
    {
     "data": {
      "text/plain": [
       "(array([5.630e+02, 1.838e+03, 2.764e+03, 2.524e+03, 0.000e+00, 1.480e+03,\n",
       "        6.420e+02, 1.530e+02, 3.400e+01, 2.000e+00]),\n",
       " array([0.  , 0.08, 0.16, 0.24, 0.32, 0.4 , 0.48, 0.56, 0.64, 0.72, 0.8 ]),\n",
       " <BarContainer object of 10 artists>)"
      ]
     },
     "execution_count": 71,
     "metadata": {},
     "output_type": "execute_result"
    },
    {
     "data": {
      "image/png": "[encoded data removed]",
      "text/plain": [
       "<Figure size 640x480 with 1 Axes>"
      ]
     },
     "metadata": {},
     "output_type": "display_data"
    }
   ],
   "source": [
    "sample_prp=[]\n",
    "for i in range(10000):\n",
    "    samp_5=sales_team.sample(10,replace=True)\n",
    "    try:\n",
    "        sample_prp.append(samp_5.value_counts()[\"Claire\"]/10) # Üretilen 10 adet veriden Claire olanları hesaplayıp oranını \n",
    "# alarak diziye aktarır.\n",
    "    except:\n",
    "        sample_prp.append(0)\n",
    "plt.title(\"Örneklem Oran Örneklem Dağılımı\")\n",
    "plt.hist(sample_prp)"
   ]
  },
  {
   "cell_type": "code",
   "execution_count": 73,
   "id": "ca3d3fb9",
   "metadata": {},
   "outputs": [
    {
     "data": {
      "text/plain": [
       "(array([ 579., 1875., 2823., 2528.,    0., 1406.,  589.,  159.,   32.,\n",
       "           9.]),\n",
       " array([0.  , 0.08, 0.16, 0.24, 0.32, 0.4 , 0.48, 0.56, 0.64, 0.72, 0.8 ]),\n",
       " <BarContainer object of 10 artists>)"
      ]
     },
     "execution_count": 73,
     "metadata": {},
     "output_type": "execute_result"
    },
    {
     "data": {
      "image/png": "[encoded data removed]",
      "text/plain": [
       "<Figure size 640x480 with 1 Axes>"
      ]
     },
     "metadata": {},
     "output_type": "display_data"
    }
   ],
   "source": [
    "import pandas as pd\n",
    "sample_prp=[]\n",
    "for i in range(10000):\n",
    "    samp_5=sales_team.sample(10,replace=True)\n",
    "    try:\n",
    "        sample_prp.append(samp_5.value_counts()[\"Claire\"]/10)\n",
    "    except:\n",
    "        sample_prp.append(0)\n",
    "plt.title(\"Örneklem Oran Örneklem Dağılımı\")\n",
    "plt.hist(sample_prp)"
   ]
  },
  {
   "cell_type": "code",
   "execution_count": 80,
   "id": "1c152193",
   "metadata": {},
   "outputs": [
    {
     "data": {
      "text/plain": [
       "(array([1.7530e+03, 8.8180e+03, 4.5281e+04, 0.0000e+00, 2.2703e+04,\n",
       "        1.9443e+04, 1.6420e+03, 0.0000e+00, 3.1600e+02, 4.4000e+01]),\n",
       " array([0. , 0.1, 0.2, 0.3, 0.4, 0.5, 0.6, 0.7, 0.8, 0.9, 1. ]),\n",
       " <BarContainer object of 10 artists>)"
      ]
     },
     "execution_count": 80,
     "metadata": {},
     "output_type": "execute_result"
    },
    {
     "data": {
      "image/png": "[encoded data removed]",
      "text/plain": [
       "<Figure size 640x480 with 1 Axes>"
      ]
     },
     "metadata": {},
     "output_type": "display_data"
    }
   ],
   "source": [
    "import pandas as pd\n",
    "import matplotlib.pyplot as plt\n",
    "liste=pd.Series([\"Erhan\",\"Berkay\",\"Kirazoglu\"])\n",
    "liste_oran=[]\n",
    "for i in range(100000):\n",
    "    liste_ornek=liste.sample(10,replace=True)\n",
    "    try:\n",
    "        liste_oran.append(liste_ornek.value_counts()[\"Berkay\"]/10)\n",
    "    except:\n",
    "        liste_oran.append(0)\n",
    "plt.title(\"Örneklem Oran Örneklem Dağılımı\")\n",
    "plt.hist(liste_oran)"
   ]
  },
  {
   "cell_type": "code",
   "execution_count": null,
   "id": "a2bef439",
   "metadata": {},
   "outputs": [],
   "source": [
    "# Possion Distribution\n",
    "# Belirli bir zaman dilimindeki ortalama olay sayısının bilindiği olasılıklardır.\n",
    "# Belirli bir zaman diliminde bazı olayların meydana gelme olasılığını açıklar.\n",
    "# Poison dağılımınınn parametres Lambdadır. Lambda zaman başına ortalama olay sayısını verir.\n",
    "# Expected Value = Lambda\n",
    "# Lambda büyüdükçe standart sapma artar."
   ]
  },
  {
   "cell_type": "code",
   "execution_count": 83,
   "id": "4428ce57",
   "metadata": {},
   "outputs": [
    {
     "data": {
      "text/plain": [
       "0.09160366159257921"
      ]
     },
     "execution_count": 83,
     "metadata": {},
     "output_type": "execute_result"
    }
   ],
   "source": [
    "# Haftada ortalama 8 sahiplenmenin gerçekleştiği bir sığınakta bir haftada 5 sahiplenme gerçekleşme olasılığı nedir?\n",
    "from scipy.stats import poisson\n",
    "poisson.pmf(5,8)"
   ]
  },
  {
   "cell_type": "code",
   "execution_count": 84,
   "id": "34cded41",
   "metadata": {},
   "outputs": [
    {
     "data": {
      "text/plain": [
       "0.19123606207962532"
      ]
     },
     "execution_count": 84,
     "metadata": {},
     "output_type": "execute_result"
    }
   ],
   "source": [
    "poisson.cdf(5,8) # 5 veya daha az sahiplenme olasılığı."
   ]
  },
  {
   "cell_type": "code",
   "execution_count": 86,
   "id": "634780a8",
   "metadata": {},
   "outputs": [
    {
     "data": {
      "text/plain": [
       "0.8087639379203747"
      ]
     },
     "execution_count": 86,
     "metadata": {},
     "output_type": "execute_result"
    }
   ],
   "source": [
    "1 - poisson.cdf(5,8) # 5'ten fazla sahiplenme olasılığı."
   ]
  },
  {
   "cell_type": "code",
   "execution_count": 88,
   "id": "43c6b7bf",
   "metadata": {},
   "outputs": [
    {
     "data": {
      "text/plain": [
       "array([13,  8,  6,  7,  6,  9,  5,  6,  5, 10], dtype=int64)"
      ]
     },
     "execution_count": 88,
     "metadata": {},
     "output_type": "execute_result"
    }
   ],
   "source": [
    "poisson.rvs(8,size=10) # Haftada ortalama 8 sahiplenme varsa 10 haftada rastgele kaç sahiplenme olacağını hesaplar."
   ]
  },
  {
   "cell_type": "code",
   "execution_count": 89,
   "id": "be88fcef",
   "metadata": {},
   "outputs": [],
   "source": [
    "# Diğer Oasılık Dağılımları\n",
    "# Üstel Dağılım\n",
    "# Örnek her 2 dakikada bir müşteri hizmeti bir bilek oluşturur"
   ]
  },
  {
   "cell_type": "code",
   "execution_count": 90,
   "id": "c3ddf7e4",
   "metadata": {},
   "outputs": [],
   "source": [
    "# Diğer Oasılık Dağılımları\n",
    "# Üstel Dağılım\n",
    "# Örnek her 2 dakikada bir müşteri hizmeti bir bilek oluşturur"
   ]
  },
  {
   "cell_type": "code",
   "execution_count": 91,
   "id": "468c606f",
   "metadata": {},
   "outputs": [],
   "source": [
    "# Exponential dağılımı, olayların birbirini takip etmeden, belirli bir ortalama bekleme süresine göre meydana geldiği \n",
    "# durumlarda kullanılır.\n",
    "# Poissondan farkı süre olasılığı hesaplamasıdır."
   ]
  },
  {
   "cell_type": "code",
   "execution_count": 92,
   "id": "95a15b97",
   "metadata": {},
   "outputs": [],
   "source": [
    "from scipy.stats import expon"
   ]
  },
  {
   "cell_type": "code",
   "execution_count": 93,
   "id": "d5225ce8",
   "metadata": {},
   "outputs": [
    {
     "data": {
      "text/plain": [
       "0.3934693402873666"
      ]
     },
     "execution_count": 93,
     "metadata": {},
     "output_type": "execute_result"
    }
   ],
   "source": [
    "expon.cdf(1,scale=2) # Yeni bir istek için 1 dkden az bekleme olasılığı.\n",
    "# scale burada ortalama bekleme süresini belirler."
   ]
  },
  {
   "cell_type": "code",
   "execution_count": 94,
   "id": "e3e68d9b",
   "metadata": {},
   "outputs": [
    {
     "data": {
      "text/plain": [
       "0.1353352832366127"
      ]
     },
     "execution_count": 94,
     "metadata": {},
     "output_type": "execute_result"
    }
   ],
   "source": [
    "1 - expon.cdf(4,scale=2) # 4 dk den fazla bekleme olasılığı."
   ]
  },
  {
   "cell_type": "code",
   "execution_count": 95,
   "id": "86d1cabf",
   "metadata": {},
   "outputs": [
    {
     "data": {
      "text/plain": [
       "0.4711953764760207"
      ]
     },
     "execution_count": 95,
     "metadata": {},
     "output_type": "execute_result"
    }
   ],
   "source": [
    "expon.cdf(4,scale=2) - expon.cdf(1,scale=2) # 1 ile 4 dk arasındaki bekleme olasılığı."
   ]
  },
  {
   "cell_type": "code",
   "execution_count": 96,
   "id": "e67d6b57",
   "metadata": {},
   "outputs": [],
   "source": [
    "# t dağılımı, küçük örneklem büyüklükleriyle uğraşıren veya popülasyon standart sapması bilinmediğinde istatistikte yaygın\n",
    "# olarak kullanılır.\n",
    "# Şekli normal dağılıma benzer, ancak tam olarak aynı değildir.\n",
    "# Mavi ile gösterilen dağılım ile turuncu ile gösterilen bir serbeslik derecesi t dağıımını karşılaştırırsak t dağılımının "
   ]
  },
  {
   "cell_type": "code",
   "execution_count": null,
   "id": "cca607c9",
   "metadata": {},
   "outputs": [],
   "source": [
    "# df: Serbestlik dereceleri, bir istatistiksel hesaplamada bağımsız bilgi miktarını ifade eder. Özellikle t dağılımında, örneklem \n",
    "# büyüklüğüne bağlı olarak belirlenir. Genellikle, bir grup verinin ortalamasını tahmin etmek için kullanılan gözlem sayısı ile \n",
    "# ilişkilidir.\n",
    "# Olasılık yoğunluk fonksiyonu, bir sürekli dağılımda belirli bir değerin etrafında olasılığı gösterir. \n",
    "# Yani, pdf bir değişkenin belirli bir değer almasının ne kadar olası olduğunu gösteren bir fonksiyondur."
   ]
  },
  {
   "cell_type": "code",
   "execution_count": 98,
   "id": "9226b60f",
   "metadata": {},
   "outputs": [
    {
     "data": {
      "image/png": "[encoded data removed]",
      "text/plain": [
       "<Figure size 640x480 with 1 Axes>"
      ]
     },
     "metadata": {},
     "output_type": "display_data"
    }
   ],
   "source": [
    "# Bu kod, t-dağılımının farklı serbestlik derecelerinde nasıl göründüğünü gösteren bir grafik oluşturmak için kullanılır. \n",
    "# Ayrıca normal dağılımın da grafiği ile karşılaştırılır. \n",
    "# df (Serbestlik Dereceleri), bir istatistiksel hesaplamada bağımsız bilgi miktarını ifade eder.\n",
    "# pdf (Probability Density Function) fonksiyonu, bir sürekli olasılık dağılımının olasılık yoğunluğunu tanımlar. \n",
    "import matplotlib.pyplot as plt\n",
    "import scipy.stats as stats\n",
    "x=np.linspace(-5,5,100) # -5 ve 5 arasında 100 adet eşit aralıklı sayı üretir. ,\n",
    "for df in [1,5,10,30]: # Köşeli parantez içindeki serbestlik derecelerini biz belirledik.\n",
    "    plt.plot(x,stats.t.pdf(x,df),label=f'df={df}') # t dağılımının yoğunluk fonksiyonunu hesaplar.\n",
    "plt.plot(x,stats.norm.pdf(x),label=\"Normal Distribition\",linestyle='--') # Normal dağılımın yoğunluk fonksiyonunu hesaplar.\n",
    "plt.legend() # Grafikteki çizgilerin anlaşılması için açıklama kutucuğu ekler.\n",
    "plt.title(\"t-distribution with different degrees of freedom\")\n",
    "plt.xlabel(\"x\")\n",
    "plt.ylabel(\"Density\")\n",
    "plt.show()"
   ]
  },
  {
   "cell_type": "code",
   "execution_count": null,
   "id": "ac1f4943",
   "metadata": {},
   "outputs": [],
   "source": []
  }
 ],
 "metadata": {
  "kernelspec": {
   "display_name": "Python 3 (ipykernel)",
   "language": "python",
   "name": "python3"
  },
  "language_info": {
   "codemirror_mode": {
    "name": "ipython",
    "version": 3
   },
   "file_extension": ".py",
   "mimetype": "text/x-python",
   "name": "python",
   "nbconvert_exporter": "python",
   "pygments_lexer": "ipython3",
   "version": "3.11.5"
  }
 },
 "nbformat": 4,
 "nbformat_minor": 5
}
