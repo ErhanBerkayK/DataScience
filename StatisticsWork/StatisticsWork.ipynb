{
 "cells": [
  {
   "cell_type": "code",
   "execution_count": 1655,
   "id": "462452af-2b40-4c2f-a9c1-7b0eee0d6b3b",
   "metadata": {},
   "outputs": [],
   "source": [
    "######### ISTATISTIK TESTLER, KODLAR, HIPOTEZLER ve BAZI GRAFIKLER KATEGORIK :"
   ]
  },
  {
   "cell_type": "code",
   "execution_count": 1657,
   "id": "6fe0cf03-7a9a-4383-8116-7d9d10f9034e",
   "metadata": {},
   "outputs": [],
   "source": [
    "####### ISTATISTIK TESTLER :"
   ]
  },
  {
   "cell_type": "code",
   "execution_count": 1659,
   "id": "5c364c89-e3f4-4909-b65b-80a13fc9e61a",
   "metadata": {},
   "outputs": [],
   "source": [
    "##### 1) Paired (Bagimli) Test :\n",
    "\n",
    "# Aynı grup üzerinde farklı zamanlarda veya koşullarda yapılan ölçümlerin karşılaştırılmasıdır.\n",
    "# Ornek : Bir grup öğrencinin sınav öncesi ve sonrası puanlarının karşılaştırılması.\n",
    "\n",
    "##### 2) Unpaired (Bagimsiz) Test :\n",
    "\n",
    "# İki farklı grubun ortalamalarını karşılaştırmak için kullanılır.\n",
    "# Ornek : Iki farklı okuldaki öğrencilerin sınav sonuçlarının karşılaştırılması."
   ]
  },
  {
   "cell_type": "code",
   "execution_count": 1661,
   "id": "eed6f4e8-b326-4c14-94ac-3138ece7a3eb",
   "metadata": {},
   "outputs": [],
   "source": [
    "##### 1.) Paired (Bagimli) Test Grubuna Giren Testler :\n",
    "\n",
    "### 1.a) Pearson Korelasyon :\n",
    "\n",
    "# Iki degiskenin birlikte nasil degistigini test eder.\n",
    "# Ki kare testinden farki sadece sayisal kategoriler arasinda uygulanabilir olmasidir.\n",
    "# Ornek : Bir ürün fiyatı ile satış miktarı arasındaki ilişkinin olup olmadığını test etmek.\n",
    "# H0 : İki değişken arasında ilişki yoktur.\n",
    "# H1 : İki değişken arasında ilişki vardır.\n",
    "\n",
    "### 1.b) Oran Testi :\n",
    "\n",
    "# Bir olayın gerçekleşme olasılığı tek bir grup için incelenir.\n",
    "# Ornek : Bir reklam kampanyasında %60 başarı oranına sahip olup olmadığını test etmek.\n",
    "# H0 : Reklam kampanyasının başarı oranı %60'tır.\n",
    "# H1 : Reklam kampanyasının başarı oranı %60'tan farklıdır.\n",
    "\n",
    "### 1.c) Wilcoxon İşaretli Sıralar Testi (T Testi Grubundan) :\n",
    "\n",
    "# Aynı gruptaki iki ölçüm arasındaki farkları test eder.\n",
    "# Ornek : bir tedavi öncesi ve sonrası ölçülen değerler.\n",
    "# H0 : İki ölçüm arasındaki farkların medyanı sıfırdır, yani gruplar arasında fark yoktur.\n",
    "# H1 : İki ölçüm arasındaki farkların medyanı sıfırdan farklıdır, yani gruplar arasında fark vardır."
   ]
  },
  {
   "cell_type": "code",
   "execution_count": 1663,
   "id": "86f31ce1-506b-4be8-a6d7-e3bfe6f97149",
   "metadata": {},
   "outputs": [],
   "source": [
    "##### 2.) Unpaired (Bagimsiz) Test Grubuna Giren Testler :\n",
    "\n",
    "### 2.a) İki Örneklem Oran Testi :\n",
    "\n",
    "# İki grubun oranları arasında anlamlı bir fark var mı?\n",
    "# Örnek : Iki farklı reklam kampanyasının başarı oranlarının karşılaştırılması.\n",
    "# H0 : İki reklam kampanyasının başarı oranları eşittir.\n",
    "# H1 : İki reklam kampanyasının başarı oranları farklıdır.\n",
    "\n",
    "### 2.b) Z-Testi :\n",
    "\n",
    "# Iki grubun ortalamalarını karşılaştırmak için kullanılır.\n",
    "# Oran testi olarakta kullanilabilir.\n",
    "# Ornek : Bir grup öğrencinin sınav ortalamasının 70 olup olmadığını test etmek istiyorsunuz. Örneklem büyüklüğü 50 ve popülasyon varyansı \n",
    "# biliniyor.\n",
    "# H0 : Ortalama 70’tir.\n",
    "# H1 : Ortalama 70 degildir.\n",
    "\n",
    "### 2.c) Ki-Kare Testi :\n",
    "\n",
    "# Kategorik değişkenler arasındaki ilişkiyi test eder.\n",
    "# Ki Kare testi degiskenlerin bagimsizligini test etmek icin kullanilir. Bu terim, bir degiskenin diger degiskenden etkilenmedigini soyler.\n",
    "# Ornek : Cinsiyet ile müşteri memnuniyeti arasında bir ilişki olup olmadığını test etmek.\n",
    "# H0 : İki kategorik değişken arasında ilişki yoktur (bağımsızdır).\n",
    "# H1 : İki kategorik değişken arasında ilişki vardır.\n",
    "\n",
    "### 2.d) Ki-Kare Uyum Iyiligi Testi : \n",
    "\n",
    "# Veri setinin bir dağılıma uygunluğunu test etmek.\n",
    "# Ornek : Zar atışlarının sonuçlarının adil bir zar olup olmadığını test etmek.\n",
    "# H0 : Gözlenen frekanslar beklenen frekanslara uygundur.\n",
    "# H1 : Gözlenen frekanslar beklenen frekanslara uymaz.\n",
    "# Bir kategorideki gozlemin degeri diger kategorideki gozlemin degeriyle iliskili olmadigindan bagimsizdir.  \n",
    "\n",
    "### 2.e) Mann-Whitney U Testi (T Testi Grubundan) :\n",
    "\n",
    "# İki bağımsız grup arasındaki farkları test eder.\n",
    "# Ornek : Tedavi alan bir grup ile tedavi almayan bir grup arasındaki sıralı test sonuçları.\n",
    "# H0 : İki grup arasındaki medyanlar eşittir, yani gruplar arasında fark yoktur.\n",
    "# H1 : İki grup arasındaki medyanlar eşit değildir, yani gruplar arasında fark vardır.\n",
    "\n",
    "### 2.f) Kruskal-Wallis H Testi (T Testi Grubundan) :\n",
    "\n",
    "# Üç veya daha fazla bağımsız grup arasındaki farkları test eder.\n",
    "# ANOVA dan farki ANOVA normal dagilima sahip veri setlerinde kullanilirken kruskal daha cok tersine isler.\n",
    "# Ornek : Bir hastalık için üç farklı tedavi yönteminin iyileşme süreleri karşılaştırılmak isteniyor.\n",
    "# H0 : Üç veya daha fazla grup arasındaki medyanlar eşittir, yani gruplar arasında fark yoktur.\n",
    "# H1 : En az bir grup diğerlerinden farklıdır, yani gruplar arasında fark vardır."
   ]
  },
  {
   "cell_type": "code",
   "execution_count": 1665,
   "id": "7f73d1cd-0b5e-4cf8-b67f-981e5871b955",
   "metadata": {},
   "outputs": [],
   "source": [
    "##### 3.) Hem Bagimli Hem Bagimsiz Test Grubuna Giren Testler :\n",
    "\n",
    "### 3.a) ANOVA : (!!!Genelde bagimli olarak daha cok kullanilir!!!)\n",
    "\n",
    "# Üç veya daha fazla grup arasındaki ortalamaları karşılaştırmak.\n",
    "# Bagimsiz Kullanimi Ornek: Her bir öğrenci yalnızca bir öğretim yöntemi denerse. (Uç farklı oğretim yönteminin oğrenciler uzerindeki etkisi)\n",
    "# Bagimli Kullanimi Ornek: Her ogrenci uc farkli yontemi de denerse.\n",
    "# H0 : Üç öğretim yöntemi arasında öğrencilerin başarıları üzerinde anlamlı bir fark yoktur.\n",
    "# H1 : Üç öğretim yöntemi arasında öğrencilerin başarıları üzerinde anlamlı bir fark vardır.\n",
    "\n",
    "### 3.b) Pairwise (Ciftli Karsilastirmalar) :\n",
    "\n",
    "# İkili grup karşılaştırmalarını test etmek.\n",
    "# Bagimli Kullanimi Ornek : Bir grup üzerinde öncesi-sonrası etkinlik testi.\n",
    "# H0 : Çiftli ölçümler arasında fark yoktur.\n",
    "# H1 : Çiftli ölçümler arasında fark vardır.\n",
    "# Bagimsiz Kullanimi Ornek : Farklı iki grubun başarı oranlarının kıyaslanması.\n",
    "# H0 : İki grubun ortalamaları eşittir.\n",
    "# H1 : İki grubun ortalamaları farklıdır.\n",
    "\n",
    "### 3.c) T Testi :\n",
    "\n",
    "# Tek Örneklem T-Testi (One-Sample T-Test) :\n",
    "\n",
    "# Bağımlı değil, çünkü yalnızca tek bir grup vardır.\n",
    "# Bir grubun ortalamasının belirli bir değere eşit olup olmadığını test etmek için kullanılır.\n",
    "# H0 : Bir sınıftaki öğrencilerin ortalama sınav notu 70'dir.\n",
    "# H1 : Bir sınıftaki öğrencilerin ortalama sınav notu 70 değildir.\n",
    "\n",
    "# Bağımsız İki Örneklem T-Testi (Independent Two-Sample T-Test) :\n",
    "\n",
    "# Bağımsız, çünkü iki farklı grup karşılaştırılır.\n",
    "# İki bağımsız grubun ortalamalarını karşılaştırmak için kullanılır.\n",
    "# H0 : Erkek ve kadın çalışanların ortalama maaşı aynıdır.\n",
    "# H1 : Erkek ve kadın çalışanların ortalama maaşı farklıdır.\n",
    "\n",
    "# Bağımlı Örneklem T-Testi (Paired T-Test) :\n",
    "\n",
    "# Aynı gruba ait ölçümler arasında fark olup olmadığını anlamak için kullanılır. (Örneğin, bir grubun önceki ve sonraki durumları.)\n",
    "# Bağımlı, çünkü aynı gruptaki bireylerin farklı zamanlardaki ölçümleri karşılaştırılır.\n",
    "# H0 : Öğrencilerin sınavdan önceki ve sonraki test sonuçları aynıdır.\n",
    "# H1 : Öğrencilerin sınavdan önceki ve sonraki test sonuçları farklıdır."
   ]
  },
  {
   "cell_type": "code",
   "execution_count": 1667,
   "id": "4f4415ae-6329-40fb-99f8-9c043b1c5d2c",
   "metadata": {},
   "outputs": [],
   "source": [
    "##### NOT 1 : Z-test in t-test ten farki Z test daha buyuk populasyonlara uygulanir (n>30). Z-test te populasyon varyansi da hesaplama \n",
    "##### yapilirken bilinir."
   ]
  },
  {
   "cell_type": "code",
   "execution_count": 1669,
   "id": "e8afc0be-dcc8-4f0a-bbdf-6a67b6882deb",
   "metadata": {},
   "outputs": [],
   "source": [
    "####### KODLAR :"
   ]
  },
  {
   "cell_type": "code",
   "execution_count": 1671,
   "id": "c197e9d6-099d-47fe-86f2-c0158ae76a87",
   "metadata": {},
   "outputs": [],
   "source": [
    "##### Kutuphaneler :\n",
    "\n",
    "import pandas as pd\n",
    "import numpy as np\n",
    "import matplotlib.pyplot as plt\n",
    "import seaborn as sns\n",
    "\n",
    "import pingouin # Istatiksel analizler icin kullanilan bir kutuphane.\n",
    "\n",
    "from scipy.stats import norm # SciPy kutuphanesinden normal dagilim fonksiyonlarini iceren norm u ice aktarir.\n",
    "\n",
    "from statsmodels.stats.proportion import proportions_ztest # Alternatif z testi yapan fonksiyonu ice aktarir.\n",
    "\n",
    "from scipy.stats import chisquare # SciPy kutuphanesinden ki kare uyum iyiligi testi yapmak icin chisquare fonksiyonunu ice aktarir.\n",
    "\n",
    "from scipy.stats import rankdata # SciPy kutuphanesindan rankdata islemini yapmamizi saglayacak fonksiyonu ice aktarir.\n",
    "\n",
    "from scipy.stats import ttest_1samp # Tek orneklem t testi yapmaya yarar.\n",
    "\n",
    "from scipy.stats import ttest_ind # Bagimsiz iki orneklem t testi yapar.\n",
    "\n",
    "from scipy.stats import ttest_rel # Bagimli orneklem t testi yapar."
   ]
  },
  {
   "cell_type": "code",
   "execution_count": 1819,
   "id": "eef0feec-f78c-48e4-a5cb-367ea552c956",
   "metadata": {
    "scrolled": true
   },
   "outputs": [],
   "source": [
    "##### df Ice Aktarma :\n",
    "\n",
    "df_stck=pd.read_feather('stack_overflow.feather')"
   ]
  },
  {
   "cell_type": "code",
   "execution_count": 1821,
   "id": "6883923a-7183-456c-95bd-b309db6e02eb",
   "metadata": {
    "scrolled": true
   },
   "outputs": [],
   "source": [
    "##### df Ice Aktarma 2 : \n",
    "\n",
    "df_small=pd.read_feather('repub_votes_potus_08_12.feather')"
   ]
  },
  {
   "cell_type": "code",
   "execution_count": 1677,
   "id": "801feede-946a-4b21-85ff-1e53a07ec7b8",
   "metadata": {},
   "outputs": [
    {
     "data": {
      "text/html": [
       "<div>\n",
       "<style scoped>\n",
       "    .dataframe tbody tr th:only-of-type {\n",
       "        vertical-align: middle;\n",
       "    }\n",
       "\n",
       "    .dataframe tbody tr th {\n",
       "        vertical-align: top;\n",
       "    }\n",
       "\n",
       "    .dataframe thead th {\n",
       "        text-align: right;\n",
       "    }\n",
       "</style>\n",
       "<table border=\"1\" class=\"dataframe\">\n",
       "  <thead>\n",
       "    <tr style=\"text-align: right;\">\n",
       "      <th></th>\n",
       "      <th>Source</th>\n",
       "      <th>ddof1</th>\n",
       "      <th>ddof2</th>\n",
       "      <th>F</th>\n",
       "      <th>p-unc</th>\n",
       "      <th>np2</th>\n",
       "    </tr>\n",
       "  </thead>\n",
       "  <tbody>\n",
       "    <tr>\n",
       "      <th>0</th>\n",
       "      <td>job_sat</td>\n",
       "      <td>4</td>\n",
       "      <td>2256</td>\n",
       "      <td>4.480485</td>\n",
       "      <td>0.001315</td>\n",
       "      <td>0.007882</td>\n",
       "    </tr>\n",
       "  </tbody>\n",
       "</table>\n",
       "</div>"
      ],
      "text/plain": [
       "    Source  ddof1  ddof2         F     p-unc       np2\n",
       "0  job_sat      4   2256  4.480485  0.001315  0.007882"
      ]
     },
     "execution_count": 1677,
     "metadata": {},
     "output_type": "execute_result"
    }
   ],
   "source": [
    "##### (3.a) Konumunda Bulunan ANOVA Testi Kodu :\n",
    "\n",
    "pingouin.anova(data=df_stck,dv='converted_comp',between='job_sat')\n",
    "\n",
    "# dv nin icerisine bagimli, gruplar arasi test edilen degisken (sayisal) girilir.\n",
    "# between icerisine bagimsiz, gruplarin hangi degiskene gore test edilecegi girilir."
   ]
  },
  {
   "cell_type": "code",
   "execution_count": 1827,
   "id": "c49e5589-e160-4b0f-b446-33c2f3ee671f",
   "metadata": {
    "scrolled": true
   },
   "outputs": [],
   "source": [
    "##### (3.b) Konumunda Bulunan Pairwise Testi Kodu :\n",
    "\n",
    "pingouin.pairwise_tests(data=df_stck,dv='converted_comp',between='job_sat',padjust='none') \n",
    "\n",
    "# Ilk 3 parametre ANOVA ile ayni.\n",
    "# padjust p degerleri uzerinde duzeltme yapar."
   ]
  },
  {
   "cell_type": "code",
   "execution_count": 1681,
   "id": "1ec35ffd-dfa6-495d-a819-70ac022b82ea",
   "metadata": {},
   "outputs": [],
   "source": [
    "##### Pairwise Testte ' padjust ' Duzeltmeleri :\n",
    "\n",
    "### bonf (Bonferroni Yontemi) :\n",
    "\n",
    "# Az sayıda hipotez testinin olduğu durumlarda.\n",
    "# En sıkı düzeltme yöntemi; yanlış pozitifliği (Tip I hata) minimuma indirir. Ancak yanlış negatif sonuç (Tip II hata) oranı yüksektir.\n",
    "# p_adjusted = p×n (Test sayısına göre p-değeri büyütülür.)\n",
    "\n",
    "### holm (Holm-Bonferroni Yöntemi) :\n",
    "\n",
    "# Bonferroni’ye alternatif, daha güçlü bir yöntem gerektiğinde. Daha az Tip II hataya yol açar.\n",
    "# P-değerleri küçükten büyüğe sıralanır. Sıralı her bir p-değeri şu şekilde düzeltilir: p_adjusted = p_i × (n−i+1) (i, sıralama indeksidir.)\n",
    "\n",
    "### fdr_bh (Benjamini-Hochberg False Discovery Rate) :\n",
    "\n",
    "# Büyük veri setlerinde (örneğin genomik analizler). Yanlış keşif oranını kontrol altında tutmak istendiğinde.\n",
    "# P-değerleri sıralanır ve şu formüle göre düzeltilir: p_adjusted = p_i x n / i\n",
    "\n",
    "### fdr_by (Benjamini-Yekutieli) :\n",
    "\n",
    "# Bağımlı testler varsa. Daha sıkı bir yanlış keşif oranı kontrolü gerektiğinde.\n",
    "# Formul : p_i = p_i x n / i x Q (Burada Q, testler arasındaki bağımlılığı düzeltmek için bir sabittir.)\n",
    "\n",
    "### sidak :\n",
    "\n",
    "# Bonferroni’ye göre daha hassas bir kontrol gerektiğinde.\n",
    "# Formül : p_adjusted = 1 - (1 - p)^n"
   ]
  },
  {
   "cell_type": "code",
   "execution_count": 1829,
   "id": "e0f861c6-0535-4368-a288-d2c6beb23d2f",
   "metadata": {
    "scrolled": true
   },
   "outputs": [],
   "source": [
    "### Degisimi Gormek Icin Sadece bonf Kullanimi :\n",
    "\n",
    "pingouin.pairwise_tests(data=df_stck,dv='converted_comp',between='job_sat',padjust='bonf')"
   ]
  },
  {
   "cell_type": "code",
   "execution_count": 1685,
   "id": "5461def6-45c7-4c12-8528-d3a86182965b",
   "metadata": {},
   "outputs": [],
   "source": [
    "####### HIPOTEZLER :"
   ]
  },
  {
   "cell_type": "code",
   "execution_count": 1687,
   "id": "f4fc6ad9-25e8-4343-a2c1-23ee1cdb60a2",
   "metadata": {},
   "outputs": [],
   "source": [
    "##### (1.b) Konumundaki Oran Testi Kodu ve Hipotez 1 :\n",
    "\n",
    "### Stackoverflow veri setindeki kullanicilarin 30 yasinin altinda olduğu bir hipotezimiz var. Bunu 0.01 anlamlilik duzeyinde test etmek \n",
    "### istersek.\n",
    "\n",
    "# H0 = Stackoverflow kullanicilarinin %50'si 30 yaş altindadir.\n",
    "# H1 = Stackoverflow kullanicilarinin %50'si 30 yas altinda degildir."
   ]
  },
  {
   "cell_type": "code",
   "execution_count": 1689,
   "id": "8ffb8396-6556-4a03-b4f6-3b804a911300",
   "metadata": {},
   "outputs": [],
   "source": [
    "alpha = 0.01 # Anlamlilik seviyesi.\n",
    "\n",
    "# Bu dahil ve onumuzdeki 6 satir hipotez 1 in kodu ciktilar gorulsun rahat anlasilsin diye ayri ayri yazdim."
   ]
  },
  {
   "cell_type": "code",
   "execution_count": 1691,
   "id": "86c34e0d-e3e0-413d-9b40-241cbbd5a513",
   "metadata": {},
   "outputs": [
    {
     "data": {
      "text/plain": [
       "age_cat\n",
       "Under 30       0.535604\n",
       "At least 30    0.464396\n",
       "Name: proportion, dtype: float64"
      ]
     },
     "execution_count": 1691,
     "metadata": {},
     "output_type": "execute_result"
    }
   ],
   "source": [
    "df_stck['age_cat'].value_counts(normalize=True) # age_cat sütunundaki farklı kategorilerin normalize ile yüzdesel dağılımını hesaplar."
   ]
  },
  {
   "cell_type": "code",
   "execution_count": 1693,
   "id": "16d78bb1-0006-4d0d-ae30-64f850786bd3",
   "metadata": {},
   "outputs": [
    {
     "data": {
      "text/plain": [
       "0.5356037151702786"
      ]
     },
     "execution_count": 1693,
     "metadata": {},
     "output_type": "execute_result"
    }
   ],
   "source": [
    "p_hat=(df_stck['age_cat']=='Under 30').mean() # age_cat sütununda \"Under 30\" olanların oranını bulur.\n",
    "\n",
    "p_hat"
   ]
  },
  {
   "cell_type": "code",
   "execution_count": 1695,
   "id": "a05adf6e-02da-46ef-a250-4ce8e496fdda",
   "metadata": {},
   "outputs": [],
   "source": [
    "p_0 = 0.05 # Populasyondeki 'Under 30' oraninin yuzde 5 oldugu varsayilir."
   ]
  },
  {
   "cell_type": "code",
   "execution_count": 1697,
   "id": "6faa63fa-21f8-4f2d-b0b9-e5255aa4320d",
   "metadata": {},
   "outputs": [
    {
     "data": {
      "text/plain": [
       "2261"
      ]
     },
     "execution_count": 1697,
     "metadata": {},
     "output_type": "execute_result"
    }
   ],
   "source": [
    "n = len(df_stck) # Veri setindeki toplam satir (gozlem) sayisi.\n",
    "\n",
    "n"
   ]
  },
  {
   "cell_type": "code",
   "execution_count": 1699,
   "id": "30d32368-aebe-4e1e-b1f5-9ce2935ca3ef",
   "metadata": {},
   "outputs": [
    {
     "data": {
      "text/plain": [
       "105.94622261180258"
      ]
     },
     "execution_count": 1699,
     "metadata": {},
     "output_type": "execute_result"
    }
   ],
   "source": [
    "### Z-Score Hesaplama Kismi :\n",
    "\n",
    "pay = p_hat - p_0 # Gozlemlenen oran ile beklenen oran arasindaki fark.\n",
    "\n",
    "payda = np.sqrt(p_0 * (1 - p_0) / n) # Standart hata hesaplama.\n",
    "\n",
    "z_score = pay / payda # Z skor hesaplama.\n",
    "\n",
    "z_score"
   ]
  },
  {
   "cell_type": "code",
   "execution_count": 1701,
   "id": "c595a2e9-f50b-483e-98b1-5a08ed1f6df0",
   "metadata": {},
   "outputs": [
    {
     "data": {
      "text/plain": [
       "0.0"
      ]
     },
     "execution_count": 1701,
     "metadata": {},
     "output_type": "execute_result"
    }
   ],
   "source": [
    "p_value = 2 * (1 - norm.cdf(z_score)) # p value hesaplama.\n",
    "\n",
    "p_value"
   ]
  },
  {
   "cell_type": "code",
   "execution_count": 1703,
   "id": "f2970d5e-288c-436d-acc0-a9e0412bcf53",
   "metadata": {},
   "outputs": [],
   "source": [
    "##### NOT 2 : p_value < alpha olursa H0 reddedilir. p_value >= alpha olursa H0 reddedilmez."
   ]
  },
  {
   "cell_type": "code",
   "execution_count": 1705,
   "id": "0a3b2720-4d32-4b53-a6ee-3b66d0d4e236",
   "metadata": {},
   "outputs": [],
   "source": [
    "##### p_value Degeri Bulunurken Kuyruk Testi : \n",
    "\n",
    "### Sol Kuyruk Testi :\n",
    "\n",
    "# Örnek : H0 : \"Ortalama 50'dir\", H1 : \"Ortalama 50'den küçüktür\".\n",
    "# Formul : p_value=norm.cdf(z_score)\n",
    "\n",
    "### Sag Kuyruk Testi : \n",
    "\n",
    "# Örnek : H0 : \"Ortalama 50'dir\", H1 : \"Ortalama 50'den büyüktür\".\n",
    "# Formul : p_value=1-norm.cdf(z_score)\n",
    "\n",
    "### Iki Kuyruklu Test (Iki Yonlu Test) :\n",
    "\n",
    "# Örnek : H0 : \"Ortalama 50'dir\", H1 : \"Ortalama 50'den farklıdır\".\n",
    "# Formul : p_value=2*(1-norm.cdf(z_score))"
   ]
  },
  {
   "cell_type": "code",
   "execution_count": 1707,
   "id": "f485bbe9-7405-4d4f-badf-68e665c26403",
   "metadata": {},
   "outputs": [],
   "source": [
    "##### (2.a) Konumundaki Iki Orneklem Oran Testi Kodu ve Hipotez 2 :\n",
    "\n",
    "### Stackoverflow u bir hobi olarak mi yoksa profesyonel olarak mi kullaniyorsunuz ve 30 yas alti mi testi yapalim.\n",
    "\n",
    "# H0 : 30 yaş altı ve en az 30 yaşındaki kullanıcıların hobi olarak StackOverflow kullanma oranları aynıdır.\n",
    "# H1 : 30 yaş altı ve en az 30 yaşındaki kullanıcıların hobi olarak StackOverflow kullanma oranları farklıdır."
   ]
  },
  {
   "cell_type": "code",
   "execution_count": 1709,
   "id": "a8138dd4-ac55-495d-b36e-b335dc570988",
   "metadata": {},
   "outputs": [],
   "source": [
    "alpha = 0.05 # Anlamlilik seviyesi.\n",
    "\n",
    "# Bu ve bundan sonraki 11 satir hipotez 2 nin kodu."
   ]
  },
  {
   "cell_type": "code",
   "execution_count": 1711,
   "id": "d28cda65-6fcf-4564-826b-4bbcdba45aad",
   "metadata": {},
   "outputs": [
    {
     "data": {
      "text/plain": [
       "age_cat      hobbyist\n",
       "At least 30  Yes          812\n",
       "             No           238\n",
       "Under 30     Yes         1021\n",
       "             No           190\n",
       "Name: count, dtype: int64"
      ]
     },
     "execution_count": 1711,
     "metadata": {},
     "output_type": "execute_result"
    }
   ],
   "source": [
    "p_hats=df_stck.groupby('age_cat')['hobbyist'].value_counts() # Yaş kategorilerine göre her bir hobi kategorisinin toplami hesaplanıyor.\n",
    "\n",
    "p_hats"
   ]
  },
  {
   "cell_type": "code",
   "execution_count": 1713,
   "id": "c0caccb1-5a4e-45e6-942b-43a8ba6fe01a",
   "metadata": {},
   "outputs": [
    {
     "data": {
      "text/plain": [
       "age_cat      hobbyist\n",
       "At least 30  Yes         0.773333\n",
       "             No          0.226667\n",
       "Under 30     Yes         0.843105\n",
       "             No          0.156895\n",
       "Name: proportion, dtype: float64"
      ]
     },
     "execution_count": 1713,
     "metadata": {},
     "output_type": "execute_result"
    }
   ],
   "source": [
    "p_hats=df_stck.groupby('age_cat')['hobbyist'].value_counts(normalize=True) # Ustteki toplamin yuzdesel dagilimi.\n",
    "\n",
    "p_hats "
   ]
  },
  {
   "cell_type": "code",
   "execution_count": 1715,
   "id": "0eab81d9-7169-4352-8c28-fa00dba45119",
   "metadata": {},
   "outputs": [
    {
     "data": {
      "text/plain": [
       "age_cat\n",
       "At least 30    1050\n",
       "Under 30       1211\n",
       "Name: hobbyist, dtype: int64"
      ]
     },
     "execution_count": 1715,
     "metadata": {},
     "output_type": "execute_result"
    }
   ],
   "source": [
    "n=df_stck.groupby('age_cat')['hobbyist'].count() # Yas kategorisine gore hobi kategorilerinin genel toplami.\n",
    "\n",
    "n"
   ]
  },
  {
   "cell_type": "code",
   "execution_count": 1717,
   "id": "a8f8c139-00af-4fc5-b96c-fe2688804367",
   "metadata": {},
   "outputs": [
    {
     "data": {
      "text/plain": [
       "0.7733333333333333"
      ]
     },
     "execution_count": 1717,
     "metadata": {},
     "output_type": "execute_result"
    }
   ],
   "source": [
    "p_hat_at_least_30=p_hats[('At least 30','Yes')] # p_hats degiskeninden yas kategorisinden 'At least 30' olanlarin 'Yes' hobi grubunu alir.\n",
    "\n",
    "p_hat_at_least_30"
   ]
  },
  {
   "cell_type": "code",
   "execution_count": 1719,
   "id": "581781a3-f2e5-4eee-bcbc-6bf0e9b0e125",
   "metadata": {},
   "outputs": [
    {
     "data": {
      "text/plain": [
       "0.8431048720066061"
      ]
     },
     "execution_count": 1719,
     "metadata": {},
     "output_type": "execute_result"
    }
   ],
   "source": [
    "p_hat_at_under_30=p_hats[('Under 30','Yes')] # Ustteki kodun yas kategorisinden 'Under 30' olanlarin 'Yes' hobi grubu.\n",
    "\n",
    "p_hat_at_under_30"
   ]
  },
  {
   "cell_type": "code",
   "execution_count": 1721,
   "id": "7c68553f-1c46-4ef0-ab98-c66c876e9861",
   "metadata": {},
   "outputs": [
    {
     "data": {
      "text/plain": [
       "1050"
      ]
     },
     "execution_count": 1721,
     "metadata": {},
     "output_type": "execute_result"
    }
   ],
   "source": [
    "n_at_least_30=n['At least 30'] # Yas grubundaki 'At least 30' grubunun toplam gozlem sayisini alir.\n",
    "\n",
    "n_at_least_30"
   ]
  },
  {
   "cell_type": "code",
   "execution_count": 1723,
   "id": "a2bbe42d-c491-4169-a7c8-6ea62b239ae5",
   "metadata": {},
   "outputs": [
    {
     "data": {
      "text/plain": [
       "1211"
      ]
     },
     "execution_count": 1723,
     "metadata": {},
     "output_type": "execute_result"
    }
   ],
   "source": [
    "n_at_under_30=n['Under 30'] # Ustteki kodun yas grubundan 'Under 30' alinmis hali.\n",
    "\n",
    "n_at_under_30"
   ]
  },
  {
   "cell_type": "code",
   "execution_count": 1725,
   "id": "75568c1b-6410-459a-ab94-84a8aa32a5a4",
   "metadata": {},
   "outputs": [
    {
     "data": {
      "text/plain": [
       "0.810703228659885"
      ]
     },
     "execution_count": 1725,
     "metadata": {},
     "output_type": "execute_result"
    }
   ],
   "source": [
    "p_hat = ((p_hat_at_least_30 * n_at_least_30) + (p_hat_at_under_30 * n_at_under_30)) / (n_at_least_30 + n_at_under_30) # Her iki yas grubunda\n",
    "\n",
    "# hobi kisminda 'Yes' olanlarin birlesik oran yuzdesi.\n",
    "\n",
    "p_hat"
   ]
  },
  {
   "cell_type": "code",
   "execution_count": 1727,
   "id": "780c01ae-2802-4f2b-9777-91cf06534577",
   "metadata": {},
   "outputs": [
    {
     "data": {
      "text/plain": [
       "0.016519089824430542"
      ]
     },
     "execution_count": 1727,
     "metadata": {},
     "output_type": "execute_result"
    }
   ],
   "source": [
    "std_error = np.sqrt((p_hat * (1 - p_hat) / n_at_least_30) + (p_hat * (1 - p_hat) / n_at_under_30)) # Standart hata hesaplama.\n",
    "\n",
    "std_error"
   ]
  },
  {
   "cell_type": "code",
   "execution_count": 1729,
   "id": "48291fc6-9355-41be-99a3-bde3bd4c0fe7",
   "metadata": {},
   "outputs": [
    {
     "data": {
      "text/plain": [
       "55.52633596970469"
      ]
     },
     "execution_count": 1729,
     "metadata": {},
     "output_type": "execute_result"
    }
   ],
   "source": [
    "z_score = (p_hat_at_least_30 / p_hat_at_under_30) / std_error # Z skor hesaplama.\n",
    "\n",
    "z_score"
   ]
  },
  {
   "cell_type": "code",
   "execution_count": 1731,
   "id": "951acd1e-2279-4a38-9df7-a6c65f9d8577",
   "metadata": {},
   "outputs": [
    {
     "data": {
      "text/plain": [
       "0.0"
      ]
     },
     "execution_count": 1731,
     "metadata": {},
     "output_type": "execute_result"
    }
   ],
   "source": [
    "p_value = 2 * (1 - norm.cdf(z_score)) # p value hesaplama.\n",
    "\n",
    "p_value"
   ]
  },
  {
   "cell_type": "code",
   "execution_count": 1733,
   "id": "69d4f7e3-9432-422a-adf0-4e1fe063652e",
   "metadata": {},
   "outputs": [],
   "source": [
    "##### (2.b) Konumunda Bulunan Z Oran Testi Kodu :"
   ]
  },
  {
   "cell_type": "code",
   "execution_count": 1735,
   "id": "5079971e-6d2d-47f9-80ab-fe6efad2885f",
   "metadata": {},
   "outputs": [
    {
     "data": {
      "text/plain": [
       "array([ 812, 1021])"
      ]
     },
     "execution_count": 1735,
     "metadata": {},
     "output_type": "execute_result"
    }
   ],
   "source": [
    "n_hobbyist=np.array([812,1021]) # Yas kategorisine gore hobi kategorisinin 'Yes' degerlerini ayri ayri manuel diziye atama.\n",
    "\n",
    "n_hobbyist"
   ]
  },
  {
   "cell_type": "code",
   "execution_count": 1737,
   "id": "cc23e576-fabb-432a-88a5-dae1a70ceb60",
   "metadata": {},
   "outputs": [
    {
     "data": {
      "text/plain": [
       "array([1050, 1211])"
      ]
     },
     "execution_count": 1737,
     "metadata": {},
     "output_type": "execute_result"
    }
   ],
   "source": [
    "n_rows=np.array([812 + 238,1021 + 190]) # Yas kategorisine gore hobi kategorisinin toplam degerlerini ayri ayri manuel diziye atama.\n",
    "\n",
    "n_rows"
   ]
  },
  {
   "cell_type": "code",
   "execution_count": 1739,
   "id": "ba5b5f71-692c-4077-b4ab-656122042e5e",
   "metadata": {},
   "outputs": [
    {
     "data": {
      "text/plain": [
       "(-4.223691463320559, 2.4033301426850675e-05)"
      ]
     },
     "execution_count": 1739,
     "metadata": {},
     "output_type": "execute_result"
    }
   ],
   "source": [
    "z_score,p_value=proportions_ztest(count=n_hobbyist,nobs=n_rows,alternative='two-sided')\n",
    "\n",
    "# count icerisine hobi olarak kullananlarin sayisini girdik.\n",
    "# nobs icerisine iki grubun ayri ayri toplam eleman sayisini girdik.\n",
    "# alternative icerisine kuyruk testini girdik.\n",
    "\n",
    "(z_score,p_value)"
   ]
  },
  {
   "cell_type": "code",
   "execution_count": 1831,
   "id": "234bb1a7-ba31-4584-863c-275789e597c3",
   "metadata": {},
   "outputs": [],
   "source": [
    "##### (2.c) Konumunda Bulunan Ki Kare Testi Kodu :\n",
    "\n",
    "excepted,observed,stats=pingouin.chi2_independence(data=df_stck,x='hobbyist',y='age_cat',correction=False)\n",
    "\n",
    "# x ve y nin degisimi sonucu degistirmez.\n",
    "# correction 'Yates' duzeltmesinin uygulanip uygulanmayacagini belirtir."
   ]
  },
  {
   "cell_type": "code",
   "execution_count": 1743,
   "id": "3cc97614-f43e-4d08-9977-dcda155515ff",
   "metadata": {},
   "outputs": [],
   "source": [
    "##### (1.a) Konumunda Bulunan Pearson Korelasyon Testi Kodu ve Hipotez 3 :\n",
    "\n",
    "# H0 : Yas kategorileri, iş mutluluk duzeyine baglidir.\n",
    "# H1 : Yas kategorileri, iş mutluluk duzeyine bagli degildir."
   ]
  },
  {
   "cell_type": "code",
   "execution_count": 1745,
   "id": "1589322d-85d8-4ce5-af2c-3f3ae81206f8",
   "metadata": {},
   "outputs": [],
   "source": [
    "excepted,observed,stats=pingouin.chi2_independence(data=df_stck,x='job_sat',y='age_cat') # Zaten ki kare testinin icerisinde pearson da var."
   ]
  },
  {
   "cell_type": "code",
   "execution_count": 1747,
   "id": "e1b81153-a5c3-456b-adb0-402c0ab6f9bb",
   "metadata": {},
   "outputs": [
    {
     "data": {
      "text/html": [
       "<div>\n",
       "<style scoped>\n",
       "    .dataframe tbody tr th:only-of-type {\n",
       "        vertical-align: middle;\n",
       "    }\n",
       "\n",
       "    .dataframe tbody tr th {\n",
       "        vertical-align: top;\n",
       "    }\n",
       "\n",
       "    .dataframe thead th {\n",
       "        text-align: right;\n",
       "    }\n",
       "</style>\n",
       "<table border=\"1\" class=\"dataframe\">\n",
       "  <thead>\n",
       "    <tr style=\"text-align: right;\">\n",
       "      <th></th>\n",
       "      <th>test</th>\n",
       "      <th>lambda</th>\n",
       "      <th>chi2</th>\n",
       "      <th>dof</th>\n",
       "      <th>pval</th>\n",
       "      <th>cramer</th>\n",
       "      <th>power</th>\n",
       "    </tr>\n",
       "  </thead>\n",
       "  <tbody>\n",
       "    <tr>\n",
       "      <th>0</th>\n",
       "      <td>pearson</td>\n",
       "      <td>1.0</td>\n",
       "      <td>5.552373</td>\n",
       "      <td>4.0</td>\n",
       "      <td>0.235164</td>\n",
       "      <td>0.049555</td>\n",
       "      <td>0.437417</td>\n",
       "    </tr>\n",
       "  </tbody>\n",
       "</table>\n",
       "</div>"
      ],
      "text/plain": [
       "      test  lambda      chi2  dof      pval    cramer     power\n",
       "0  pearson     1.0  5.552373  4.0  0.235164  0.049555  0.437417"
      ]
     },
     "execution_count": 1747,
     "metadata": {},
     "output_type": "execute_result"
    }
   ],
   "source": [
    "stats[stats['test']=='pearson'] # Bu sekilde pearson testine ulasabiliyoruz."
   ]
  },
  {
   "cell_type": "code",
   "execution_count": 1749,
   "id": "478a3f7d-e686-4eba-aff1-948936f34fd0",
   "metadata": {},
   "outputs": [],
   "source": [
    "##### (2.d) Konumunda Bulunan Ki Kare Uyum Iyiligi Testi Kodu ve Hipotez 3 :\n",
    "\n",
    "# H0 : Bağlantı türü ile yaş kategorisi arasında bağımsızlık yoktur.\n",
    "# H1 : Bağlantı türü ile yaş kategorisi arasında bağımlılık vardir."
   ]
  },
  {
   "cell_type": "code",
   "execution_count": 1751,
   "id": "740313f0-144e-44b1-8d9f-48f6fe62f0b2",
   "metadata": {},
   "outputs": [
    {
     "data": {
      "text/plain": [
       "purple_link\n",
       "Hello, old friend    1225\n",
       "Indifferent           405\n",
       "Amused                368\n",
       "Annoyed               263\n",
       "Name: count, dtype: int64"
      ]
     },
     "execution_count": 1751,
     "metadata": {},
     "output_type": "execute_result"
    }
   ],
   "source": [
    "purple_link_counts=df_stck['purple_link'].value_counts() # Gozlemlenen dagilimi saydik.\n",
    "\n",
    "purple_link_counts"
   ]
  },
  {
   "cell_type": "code",
   "execution_count": 1753,
   "id": "3b6bf5b4-1a9d-4835-b6d7-8aa2d9bd07e1",
   "metadata": {},
   "outputs": [
    {
     "data": {
      "text/html": [
       "<div>\n",
       "<style scoped>\n",
       "    .dataframe tbody tr th:only-of-type {\n",
       "        vertical-align: middle;\n",
       "    }\n",
       "\n",
       "    .dataframe tbody tr th {\n",
       "        vertical-align: top;\n",
       "    }\n",
       "\n",
       "    .dataframe thead th {\n",
       "        text-align: right;\n",
       "    }\n",
       "</style>\n",
       "<table border=\"1\" class=\"dataframe\">\n",
       "  <thead>\n",
       "    <tr style=\"text-align: right;\">\n",
       "      <th></th>\n",
       "      <th>purple_link</th>\n",
       "      <th>n</th>\n",
       "    </tr>\n",
       "  </thead>\n",
       "  <tbody>\n",
       "    <tr>\n",
       "      <th>2</th>\n",
       "      <td>Amused</td>\n",
       "      <td>368</td>\n",
       "    </tr>\n",
       "    <tr>\n",
       "      <th>3</th>\n",
       "      <td>Annoyed</td>\n",
       "      <td>263</td>\n",
       "    </tr>\n",
       "    <tr>\n",
       "      <th>0</th>\n",
       "      <td>Hello, old friend</td>\n",
       "      <td>1225</td>\n",
       "    </tr>\n",
       "    <tr>\n",
       "      <th>1</th>\n",
       "      <td>Indifferent</td>\n",
       "      <td>405</td>\n",
       "    </tr>\n",
       "  </tbody>\n",
       "</table>\n",
       "</div>"
      ],
      "text/plain": [
       "         purple_link     n\n",
       "2             Amused   368\n",
       "3            Annoyed   263\n",
       "0  Hello, old friend  1225\n",
       "1        Indifferent   405"
      ]
     },
     "execution_count": 1753,
     "metadata": {},
     "output_type": "execute_result"
    }
   ],
   "source": [
    "purple_link_counts=purple_link_counts.rename_axis('purple_link').reset_index(name='n').sort_values('purple_link')\n",
    "\n",
    "# Gozlemlenen dagilimi duzenledik.\n",
    "# purple_link adını eksene verir.\n",
    "# İndeksi sıfırlayarak, indeks bilgilerini 'n' adında bir sütun olarak ekler.\n",
    "# Son olarak, 'purple_link' sütununa göre veriyi artan şekilde sıralar. \n",
    "\n",
    "purple_link_counts"
   ]
  },
  {
   "cell_type": "code",
   "execution_count": 1755,
   "id": "203a4023-836c-4920-a05a-13ce243db6cf",
   "metadata": {},
   "outputs": [
    {
     "data": {
      "text/html": [
       "<div>\n",
       "<style scoped>\n",
       "    .dataframe tbody tr th:only-of-type {\n",
       "        vertical-align: middle;\n",
       "    }\n",
       "\n",
       "    .dataframe tbody tr th {\n",
       "        vertical-align: top;\n",
       "    }\n",
       "\n",
       "    .dataframe thead th {\n",
       "        text-align: right;\n",
       "    }\n",
       "</style>\n",
       "<table border=\"1\" class=\"dataframe\">\n",
       "  <thead>\n",
       "    <tr style=\"text-align: right;\">\n",
       "      <th></th>\n",
       "      <th>purple_link</th>\n",
       "      <th>n</th>\n",
       "    </tr>\n",
       "  </thead>\n",
       "  <tbody>\n",
       "    <tr>\n",
       "      <th>2</th>\n",
       "      <td>Amused</td>\n",
       "      <td>368</td>\n",
       "    </tr>\n",
       "    <tr>\n",
       "      <th>3</th>\n",
       "      <td>Annoyed</td>\n",
       "      <td>263</td>\n",
       "    </tr>\n",
       "    <tr>\n",
       "      <th>0</th>\n",
       "      <td>Hello, old friend</td>\n",
       "      <td>1225</td>\n",
       "    </tr>\n",
       "    <tr>\n",
       "      <th>1</th>\n",
       "      <td>Indifferent</td>\n",
       "      <td>405</td>\n",
       "    </tr>\n",
       "  </tbody>\n",
       "</table>\n",
       "</div>"
      ],
      "text/plain": [
       "         purple_link     n\n",
       "2             Amused   368\n",
       "3            Annoyed   263\n",
       "0  Hello, old friend  1225\n",
       "1        Indifferent   405"
      ]
     },
     "execution_count": 1755,
     "metadata": {},
     "output_type": "execute_result"
    }
   ],
   "source": [
    "purple_link_counts=pd.DataFrame(purple_link_counts) # Verileri df e cevirdik.\n",
    "\n",
    "purple_link_counts"
   ]
  },
  {
   "cell_type": "code",
   "execution_count": 1757,
   "id": "e0239632-5511-4da6-9ad9-7301a4a7bab8",
   "metadata": {},
   "outputs": [
    {
     "data": {
      "text/html": [
       "<div>\n",
       "<style scoped>\n",
       "    .dataframe tbody tr th:only-of-type {\n",
       "        vertical-align: middle;\n",
       "    }\n",
       "\n",
       "    .dataframe tbody tr th {\n",
       "        vertical-align: top;\n",
       "    }\n",
       "\n",
       "    .dataframe thead th {\n",
       "        text-align: right;\n",
       "    }\n",
       "</style>\n",
       "<table border=\"1\" class=\"dataframe\">\n",
       "  <thead>\n",
       "    <tr style=\"text-align: right;\">\n",
       "      <th></th>\n",
       "      <th>purple_link</th>\n",
       "      <th>prop</th>\n",
       "    </tr>\n",
       "  </thead>\n",
       "  <tbody>\n",
       "    <tr>\n",
       "      <th>0</th>\n",
       "      <td>Amused</td>\n",
       "      <td>0.166667</td>\n",
       "    </tr>\n",
       "    <tr>\n",
       "      <th>1</th>\n",
       "      <td>Annoyed</td>\n",
       "      <td>0.166667</td>\n",
       "    </tr>\n",
       "    <tr>\n",
       "      <th>2</th>\n",
       "      <td>Hello old friend</td>\n",
       "      <td>0.500000</td>\n",
       "    </tr>\n",
       "    <tr>\n",
       "      <th>3</th>\n",
       "      <td>Indifferent</td>\n",
       "      <td>0.166667</td>\n",
       "    </tr>\n",
       "  </tbody>\n",
       "</table>\n",
       "</div>"
      ],
      "text/plain": [
       "        purple_link      prop\n",
       "0            Amused  0.166667\n",
       "1           Annoyed  0.166667\n",
       "2  Hello old friend  0.500000\n",
       "3       Indifferent  0.166667"
      ]
     },
     "execution_count": 1757,
     "metadata": {},
     "output_type": "execute_result"
    }
   ],
   "source": [
    "hypothesized=pd.DataFrame({'purple_link':['Amused','Annoyed','Hello old friend','Indifferent'],'prop':[1/6 , 1/6 , 1/2 , 1/6]})\n",
    "\n",
    "# Beklenen (hypothesized) dağılımı oluşturduk.\n",
    "\n",
    "hypothesized"
   ]
  },
  {
   "cell_type": "code",
   "execution_count": 1759,
   "id": "114a9ee1-bc4c-45b1-ae56-6767886f6a33",
   "metadata": {},
   "outputs": [
    {
     "data": {
      "text/plain": [
       "2261"
      ]
     },
     "execution_count": 1759,
     "metadata": {},
     "output_type": "execute_result"
    }
   ],
   "source": [
    "n_total=len(df_stck) # Toplam gozlem sayisini hesapladik.\n",
    "\n",
    "n_total"
   ]
  },
  {
   "cell_type": "code",
   "execution_count": 1761,
   "id": "50eda0e3-fa2f-4128-a450-049594b670e4",
   "metadata": {},
   "outputs": [
    {
     "data": {
      "text/html": [
       "<div>\n",
       "<style scoped>\n",
       "    .dataframe tbody tr th:only-of-type {\n",
       "        vertical-align: middle;\n",
       "    }\n",
       "\n",
       "    .dataframe tbody tr th {\n",
       "        vertical-align: top;\n",
       "    }\n",
       "\n",
       "    .dataframe thead th {\n",
       "        text-align: right;\n",
       "    }\n",
       "</style>\n",
       "<table border=\"1\" class=\"dataframe\">\n",
       "  <thead>\n",
       "    <tr style=\"text-align: right;\">\n",
       "      <th></th>\n",
       "      <th>purple_link</th>\n",
       "      <th>prop</th>\n",
       "      <th>n</th>\n",
       "    </tr>\n",
       "  </thead>\n",
       "  <tbody>\n",
       "    <tr>\n",
       "      <th>0</th>\n",
       "      <td>Amused</td>\n",
       "      <td>0.166667</td>\n",
       "      <td>376.833333</td>\n",
       "    </tr>\n",
       "    <tr>\n",
       "      <th>1</th>\n",
       "      <td>Annoyed</td>\n",
       "      <td>0.166667</td>\n",
       "      <td>376.833333</td>\n",
       "    </tr>\n",
       "    <tr>\n",
       "      <th>2</th>\n",
       "      <td>Hello old friend</td>\n",
       "      <td>0.500000</td>\n",
       "      <td>1130.500000</td>\n",
       "    </tr>\n",
       "    <tr>\n",
       "      <th>3</th>\n",
       "      <td>Indifferent</td>\n",
       "      <td>0.166667</td>\n",
       "      <td>376.833333</td>\n",
       "    </tr>\n",
       "  </tbody>\n",
       "</table>\n",
       "</div>"
      ],
      "text/plain": [
       "        purple_link      prop            n\n",
       "0            Amused  0.166667   376.833333\n",
       "1           Annoyed  0.166667   376.833333\n",
       "2  Hello old friend  0.500000  1130.500000\n",
       "3       Indifferent  0.166667   376.833333"
      ]
     },
     "execution_count": 1761,
     "metadata": {},
     "output_type": "execute_result"
    }
   ],
   "source": [
    "hypothesized['n']=hypothesized['prop']*n_total # Beklenen (hypothesized) kategorilerinin sayısını hesapladik.\n",
    "\n",
    "hypothesized"
   ]
  },
  {
   "cell_type": "code",
   "execution_count": 1763,
   "id": "a70c2804-6379-407c-98d9-b306c3a924d9",
   "metadata": {},
   "outputs": [
    {
     "data": {
      "text/plain": [
       "Power_divergenceResult(statistic=44.59840778416629, pvalue=1.1261810719413717e-09)"
      ]
     },
     "execution_count": 1763,
     "metadata": {},
     "output_type": "execute_result"
    }
   ],
   "source": [
    "chisquare(f_obs=purple_link_counts['n'],f_exp=hypothesized['n']) # Ki kare uyum iyiligi testi uyguladik."
   ]
  },
  {
   "cell_type": "code",
   "execution_count": 1765,
   "id": "b3471de8-6c53-4309-b675-9bbe75a1c1ef",
   "metadata": {},
   "outputs": [],
   "source": [
    "##### (1.c) Konumunda Bulunan Wilcoxon İşaretli Sıralar Testi Kodu :"
   ]
  },
  {
   "cell_type": "code",
   "execution_count": 1833,
   "id": "e9837340-bde5-40da-86d1-73b03b7fd83a",
   "metadata": {
    "scrolled": true
   },
   "outputs": [],
   "source": [
    "df_small['diff']=df_small['repub_percent_08']-df_small['repub_percent_12'] # Iki sutun arasinda cikarma yapip sonucu sutun olarak ekleme."
   ]
  },
  {
   "cell_type": "code",
   "execution_count": 1835,
   "id": "5ca0710e-1def-4368-b7f9-09aada0ed45d",
   "metadata": {
    "scrolled": true
   },
   "outputs": [],
   "source": [
    "df_small['abs_diff']=np.abs(df_small['diff']) \n",
    "\n",
    "# Olusturulan satirin mutlagini alma.\n",
    "# 2. Yol : df_small['diff'].abs()"
   ]
  },
  {
   "cell_type": "code",
   "execution_count": 1771,
   "id": "3a34c1b8-26b8-413e-b069-c43a6e48e655",
   "metadata": {
    "scrolled": true
   },
   "outputs": [],
   "source": [
    "df_small['rank_abs_diff']=rankdata(df_small['abs_diff'])\n",
    "\n",
    "# rankdata bir dizideki elemanlari siralayarak bu elemanlara sira numarasi verir.\n",
    "# Ayni degerlere sahip olan elemanlara siralamanin ortalamasini atar.\n",
    "# Mesela 7,3,5,7,9 => 3,5,7,7,9 => 3=1, 5=2, 7 lerin sira numarasi normalde 3 ve 4 olmasi gerektiginden 3+4=7 7/2=3.5 yani 7=3.5, 7=3.5, 9=5"
   ]
  },
  {
   "cell_type": "code",
   "execution_count": 1773,
   "id": "f7ee4474-b453-41af-b80a-1ba5faaf0bbb",
   "metadata": {},
   "outputs": [],
   "source": [
    "T_minus=1+4+5+2+3\n",
    "\n",
    "# T_minus negatif isaretli siralarin toplamini ifade eder."
   ]
  },
  {
   "cell_type": "code",
   "execution_count": 1775,
   "id": "0baa43de-e2ee-434c-9919-f5010c1a0be9",
   "metadata": {},
   "outputs": [],
   "source": [
    "T_plus=0\n",
    "\n",
    "# T_plus pozitif isaretli siralarin toplamini ifade eder."
   ]
  },
  {
   "cell_type": "code",
   "execution_count": 1777,
   "id": "9a451908-f21e-4693-a32c-e2f223410d89",
   "metadata": {},
   "outputs": [
    {
     "data": {
      "text/plain": [
       "0"
      ]
     },
     "execution_count": 1777,
     "metadata": {},
     "output_type": "execute_result"
    }
   ],
   "source": [
    "W=np.min([T_minus,T_plus]) # Test istatistiği, bu toplamların küçük olanıdır.\n",
    "\n",
    "W"
   ]
  },
  {
   "cell_type": "code",
   "execution_count": 1779,
   "id": "0b6e7946-862b-4c63-bf7d-ef215795492b",
   "metadata": {},
   "outputs": [
    {
     "data": {
      "text/html": [
       "<div>\n",
       "<style scoped>\n",
       "    .dataframe tbody tr th:only-of-type {\n",
       "        vertical-align: middle;\n",
       "    }\n",
       "\n",
       "    .dataframe tbody tr th {\n",
       "        vertical-align: top;\n",
       "    }\n",
       "\n",
       "    .dataframe thead th {\n",
       "        text-align: right;\n",
       "    }\n",
       "</style>\n",
       "<table border=\"1\" class=\"dataframe\">\n",
       "  <thead>\n",
       "    <tr style=\"text-align: right;\">\n",
       "      <th></th>\n",
       "      <th>W-val</th>\n",
       "      <th>alternative</th>\n",
       "      <th>p-val</th>\n",
       "      <th>RBC</th>\n",
       "      <th>CLES</th>\n",
       "    </tr>\n",
       "  </thead>\n",
       "  <tbody>\n",
       "    <tr>\n",
       "      <th>Wilcoxon</th>\n",
       "      <td>386.0</td>\n",
       "      <td>less</td>\n",
       "      <td>9.700674e-14</td>\n",
       "      <td>-0.847129</td>\n",
       "      <td>0.5729</td>\n",
       "    </tr>\n",
       "  </tbody>\n",
       "</table>\n",
       "</div>"
      ],
      "text/plain": [
       "          W-val alternative         p-val       RBC    CLES\n",
       "Wilcoxon  386.0        less  9.700674e-14 -0.847129  0.5729"
      ]
     },
     "execution_count": 1779,
     "metadata": {},
     "output_type": "execute_result"
    }
   ],
   "source": [
    "pingouin.wilcoxon(x=df_small['repub_percent_08'],y=df_small['repub_percent_12'],alternative='less') # !!! WILCOXON KISAYOL !!!\n",
    "\n",
    "# less ilk grubun ikinci gruptan daha dusuk oldugunu test eder.\n",
    "# two-sided iki tarafli da test yapar.\n",
    "# greater ilk grubun ikinci gruptan daha buyuk oldugunu test eder."
   ]
  },
  {
   "cell_type": "code",
   "execution_count": 1781,
   "id": "352d87eb-a09f-4aa7-b781-1bd773dafcb4",
   "metadata": {},
   "outputs": [],
   "source": [
    "##### (2.e) Konumundan Mann-Whitney U Testi Kodu :"
   ]
  },
  {
   "cell_type": "code",
   "execution_count": 1783,
   "id": "1e84eb86-21b1-4591-b302-fc8cc6c31e28",
   "metadata": {
    "scrolled": true
   },
   "outputs": [
    {
     "data": {
      "text/html": [
       "<div>\n",
       "<style scoped>\n",
       "    .dataframe tbody tr th:only-of-type {\n",
       "        vertical-align: middle;\n",
       "    }\n",
       "\n",
       "    .dataframe tbody tr th {\n",
       "        vertical-align: top;\n",
       "    }\n",
       "\n",
       "    .dataframe thead th {\n",
       "        text-align: right;\n",
       "    }\n",
       "</style>\n",
       "<table border=\"1\" class=\"dataframe\">\n",
       "  <thead>\n",
       "    <tr style=\"text-align: right;\">\n",
       "      <th></th>\n",
       "      <th>converted_comp</th>\n",
       "      <th>age_first_code_cut</th>\n",
       "    </tr>\n",
       "  </thead>\n",
       "  <tbody>\n",
       "    <tr>\n",
       "      <th>0</th>\n",
       "      <td>77556.0</td>\n",
       "      <td>adult</td>\n",
       "    </tr>\n",
       "    <tr>\n",
       "      <th>1</th>\n",
       "      <td>74970.0</td>\n",
       "      <td>child</td>\n",
       "    </tr>\n",
       "    <tr>\n",
       "      <th>2</th>\n",
       "      <td>594539.0</td>\n",
       "      <td>child</td>\n",
       "    </tr>\n",
       "    <tr>\n",
       "      <th>3</th>\n",
       "      <td>2000000.0</td>\n",
       "      <td>adult</td>\n",
       "    </tr>\n",
       "    <tr>\n",
       "      <th>4</th>\n",
       "      <td>37816.0</td>\n",
       "      <td>adult</td>\n",
       "    </tr>\n",
       "    <tr>\n",
       "      <th>...</th>\n",
       "      <td>...</td>\n",
       "      <td>...</td>\n",
       "    </tr>\n",
       "    <tr>\n",
       "      <th>2256</th>\n",
       "      <td>145000.0</td>\n",
       "      <td>child</td>\n",
       "    </tr>\n",
       "    <tr>\n",
       "      <th>2257</th>\n",
       "      <td>33972.0</td>\n",
       "      <td>child</td>\n",
       "    </tr>\n",
       "    <tr>\n",
       "      <th>2258</th>\n",
       "      <td>97284.0</td>\n",
       "      <td>child</td>\n",
       "    </tr>\n",
       "    <tr>\n",
       "      <th>2259</th>\n",
       "      <td>72000.0</td>\n",
       "      <td>child</td>\n",
       "    </tr>\n",
       "    <tr>\n",
       "      <th>2260</th>\n",
       "      <td>180000.0</td>\n",
       "      <td>child</td>\n",
       "    </tr>\n",
       "  </tbody>\n",
       "</table>\n",
       "<p>2261 rows × 2 columns</p>\n",
       "</div>"
      ],
      "text/plain": [
       "      converted_comp age_first_code_cut\n",
       "0            77556.0              adult\n",
       "1            74970.0              child\n",
       "2           594539.0              child\n",
       "3          2000000.0              adult\n",
       "4            37816.0              adult\n",
       "...              ...                ...\n",
       "2256        145000.0              child\n",
       "2257         33972.0              child\n",
       "2258         97284.0              child\n",
       "2259         72000.0              child\n",
       "2260        180000.0              child\n",
       "\n",
       "[2261 rows x 2 columns]"
      ]
     },
     "execution_count": 1783,
     "metadata": {},
     "output_type": "execute_result"
    }
   ],
   "source": [
    "age_vs_comp=df_stck[['converted_comp','age_first_code_cut']] # Iki sutunu yan yana yazdirma.\n",
    "\n",
    "age_vs_comp"
   ]
  },
  {
   "cell_type": "code",
   "execution_count": 1785,
   "id": "9d66eb64-eec0-4b7c-a91a-2a692dd5ab44",
   "metadata": {
    "scrolled": true
   },
   "outputs": [
    {
     "data": {
      "text/html": [
       "<div>\n",
       "<style scoped>\n",
       "    .dataframe tbody tr th:only-of-type {\n",
       "        vertical-align: middle;\n",
       "    }\n",
       "\n",
       "    .dataframe tbody tr th {\n",
       "        vertical-align: top;\n",
       "    }\n",
       "\n",
       "    .dataframe thead th {\n",
       "        text-align: right;\n",
       "    }\n",
       "</style>\n",
       "<table border=\"1\" class=\"dataframe\">\n",
       "  <thead>\n",
       "    <tr style=\"text-align: right;\">\n",
       "      <th>age_first_code_cut</th>\n",
       "      <th>adult</th>\n",
       "      <th>child</th>\n",
       "    </tr>\n",
       "  </thead>\n",
       "  <tbody>\n",
       "    <tr>\n",
       "      <th>0</th>\n",
       "      <td>77556.0</td>\n",
       "      <td>NaN</td>\n",
       "    </tr>\n",
       "    <tr>\n",
       "      <th>1</th>\n",
       "      <td>NaN</td>\n",
       "      <td>74970.0</td>\n",
       "    </tr>\n",
       "    <tr>\n",
       "      <th>2</th>\n",
       "      <td>NaN</td>\n",
       "      <td>594539.0</td>\n",
       "    </tr>\n",
       "    <tr>\n",
       "      <th>3</th>\n",
       "      <td>2000000.0</td>\n",
       "      <td>NaN</td>\n",
       "    </tr>\n",
       "    <tr>\n",
       "      <th>4</th>\n",
       "      <td>37816.0</td>\n",
       "      <td>NaN</td>\n",
       "    </tr>\n",
       "    <tr>\n",
       "      <th>...</th>\n",
       "      <td>...</td>\n",
       "      <td>...</td>\n",
       "    </tr>\n",
       "    <tr>\n",
       "      <th>2256</th>\n",
       "      <td>NaN</td>\n",
       "      <td>145000.0</td>\n",
       "    </tr>\n",
       "    <tr>\n",
       "      <th>2257</th>\n",
       "      <td>NaN</td>\n",
       "      <td>33972.0</td>\n",
       "    </tr>\n",
       "    <tr>\n",
       "      <th>2258</th>\n",
       "      <td>NaN</td>\n",
       "      <td>97284.0</td>\n",
       "    </tr>\n",
       "    <tr>\n",
       "      <th>2259</th>\n",
       "      <td>NaN</td>\n",
       "      <td>72000.0</td>\n",
       "    </tr>\n",
       "    <tr>\n",
       "      <th>2260</th>\n",
       "      <td>NaN</td>\n",
       "      <td>180000.0</td>\n",
       "    </tr>\n",
       "  </tbody>\n",
       "</table>\n",
       "<p>2261 rows × 2 columns</p>\n",
       "</div>"
      ],
      "text/plain": [
       "age_first_code_cut      adult     child\n",
       "0                     77556.0       NaN\n",
       "1                         NaN   74970.0\n",
       "2                         NaN  594539.0\n",
       "3                   2000000.0       NaN\n",
       "4                     37816.0       NaN\n",
       "...                       ...       ...\n",
       "2256                      NaN  145000.0\n",
       "2257                      NaN   33972.0\n",
       "2258                      NaN   97284.0\n",
       "2259                      NaN   72000.0\n",
       "2260                      NaN  180000.0\n",
       "\n",
       "[2261 rows x 2 columns]"
      ]
     },
     "execution_count": 1785,
     "metadata": {},
     "output_type": "execute_result"
    }
   ],
   "source": [
    "age_vs_comp_wide=age_vs_comp.pivot(columns='age_first_code_cut',values='converted_comp')\n",
    "\n",
    "# pivot elimizdeki df i sekillendirmemizi saglar.\n",
    "# columns icerisine girdigimiz sutunun benzersiz degerleri yeni sutunlarimiz olur.\n",
    "# values olusturulan sutunlara koyulacak satir degerlerini belirler.\n",
    "\n",
    "age_vs_comp_wide"
   ]
  },
  {
   "cell_type": "code",
   "execution_count": 1787,
   "id": "b70bb429-cbea-405a-9abd-94231a023dfb",
   "metadata": {},
   "outputs": [
    {
     "data": {
      "text/html": [
       "<div>\n",
       "<style scoped>\n",
       "    .dataframe tbody tr th:only-of-type {\n",
       "        vertical-align: middle;\n",
       "    }\n",
       "\n",
       "    .dataframe tbody tr th {\n",
       "        vertical-align: top;\n",
       "    }\n",
       "\n",
       "    .dataframe thead th {\n",
       "        text-align: right;\n",
       "    }\n",
       "</style>\n",
       "<table border=\"1\" class=\"dataframe\">\n",
       "  <thead>\n",
       "    <tr style=\"text-align: right;\">\n",
       "      <th></th>\n",
       "      <th>U-val</th>\n",
       "      <th>alternative</th>\n",
       "      <th>p-val</th>\n",
       "      <th>RBC</th>\n",
       "      <th>CLES</th>\n",
       "    </tr>\n",
       "  </thead>\n",
       "  <tbody>\n",
       "    <tr>\n",
       "      <th>MWU</th>\n",
       "      <td>744365.5</td>\n",
       "      <td>greater</td>\n",
       "      <td>1.902723e-19</td>\n",
       "      <td>0.222516</td>\n",
       "      <td>0.611258</td>\n",
       "    </tr>\n",
       "  </tbody>\n",
       "</table>\n",
       "</div>"
      ],
      "text/plain": [
       "        U-val alternative         p-val       RBC      CLES\n",
       "MWU  744365.5     greater  1.902723e-19  0.222516  0.611258"
      ]
     },
     "execution_count": 1787,
     "metadata": {},
     "output_type": "execute_result"
    }
   ],
   "source": [
    "pingouin.mwu(x=age_vs_comp_wide['child'],y=age_vs_comp_wide['adult'],alternative='greater') \n",
    "\n",
    "# Testi gerceklestirdik."
   ]
  },
  {
   "cell_type": "code",
   "execution_count": 1789,
   "id": "d43e9981-7225-4e45-86c6-3f4f6c77cd4f",
   "metadata": {},
   "outputs": [
    {
     "data": {
      "text/html": [
       "<div>\n",
       "<style scoped>\n",
       "    .dataframe tbody tr th:only-of-type {\n",
       "        vertical-align: middle;\n",
       "    }\n",
       "\n",
       "    .dataframe tbody tr th {\n",
       "        vertical-align: top;\n",
       "    }\n",
       "\n",
       "    .dataframe thead th {\n",
       "        text-align: right;\n",
       "    }\n",
       "</style>\n",
       "<table border=\"1\" class=\"dataframe\">\n",
       "  <thead>\n",
       "    <tr style=\"text-align: right;\">\n",
       "      <th></th>\n",
       "      <th>Source</th>\n",
       "      <th>ddof1</th>\n",
       "      <th>H</th>\n",
       "      <th>p-unc</th>\n",
       "    </tr>\n",
       "  </thead>\n",
       "  <tbody>\n",
       "    <tr>\n",
       "      <th>Kruskal</th>\n",
       "      <td>job_sat</td>\n",
       "      <td>4</td>\n",
       "      <td>72.814939</td>\n",
       "      <td>5.772915e-15</td>\n",
       "    </tr>\n",
       "  </tbody>\n",
       "</table>\n",
       "</div>"
      ],
      "text/plain": [
       "          Source  ddof1          H         p-unc\n",
       "Kruskal  job_sat      4  72.814939  5.772915e-15"
      ]
     },
     "execution_count": 1789,
     "metadata": {},
     "output_type": "execute_result"
    }
   ],
   "source": [
    "##### (2.f) Konumundan Kruskal-Wallis H Testi Kodu :\n",
    "\n",
    "pingouin.kruskal(data=df_stck,dv='converted_comp',between='job_sat')\n",
    "\n",
    "# dv nin icerisine bagimli, gruplar arasi test edilen degisken (sayisal) girilir.\n",
    "# between icerisine bagimsiz, gruplarin hangi degiskene gore test edilecegi girilir."
   ]
  },
  {
   "cell_type": "code",
   "execution_count": 1791,
   "id": "154db27f-11b5-4f30-b32f-c5fe602517f0",
   "metadata": {},
   "outputs": [],
   "source": [
    "##### (3.c) T Testi Kodu :"
   ]
  },
  {
   "cell_type": "code",
   "execution_count": 1793,
   "id": "ef5b8f3b-a275-4430-846e-9eacabce0893",
   "metadata": {},
   "outputs": [
    {
     "data": {
      "text/plain": [
       "(1.414213562373095, 0.23019964108049873)"
      ]
     },
     "execution_count": 1793,
     "metadata": {},
     "output_type": "execute_result"
    }
   ],
   "source": [
    "data = [65, 70, 75, 80, 85] \n",
    "data2 = [10,20,30,40,50] \n",
    "\n",
    "t_stat, p_value = ttest_1samp(data, 70)\n",
    "\n",
    "# Tek orneklem t testi yapar.\n",
    "# 70 burada hipotezleri olusturan ortalama olarak dusunulebilir.\n",
    "\n",
    "(t_stat,p_value)"
   ]
  },
  {
   "cell_type": "code",
   "execution_count": 1795,
   "id": "006b92db-7fa2-416f-8f80-279b34d45ba0",
   "metadata": {},
   "outputs": [
    {
     "data": {
      "text/plain": [
       "(5.692099788303083, 0.00045853972580596806)"
      ]
     },
     "execution_count": 1795,
     "metadata": {},
     "output_type": "execute_result"
    }
   ],
   "source": [
    "t_stat, p_value = ttest_ind(data, data2)\n",
    "\n",
    "# Bağımsız iki orneklem t testi yapar.\n",
    "\n",
    "(t_stat,p_value)"
   ]
  },
  {
   "cell_type": "code",
   "execution_count": 1797,
   "id": "4f763deb-d16f-45d4-8d8e-aff2f734d85f",
   "metadata": {},
   "outputs": [
    {
     "data": {
      "text/plain": [
       "(12.727922061357855, 0.0002195114192059872)"
      ]
     },
     "execution_count": 1797,
     "metadata": {},
     "output_type": "execute_result"
    }
   ],
   "source": [
    "t_stat, p_value = ttest_rel(data, data2)\n",
    "\n",
    "(t_stat,p_value)"
   ]
  },
  {
   "cell_type": "code",
   "execution_count": 1799,
   "id": "341f5e87-aeb4-4c55-9d5f-ad58d4a863a0",
   "metadata": {},
   "outputs": [],
   "source": [
    "##### BAR GRAFIGI :"
   ]
  },
  {
   "cell_type": "code",
   "execution_count": 1837,
   "id": "b8c41aa6-c525-4e27-ad82-2aee138024cb",
   "metadata": {},
   "outputs": [
    {
     "name": "stderr",
     "output_type": "stream",
     "text": [
      "/var/folders/k6/hq7hkmds7fjb8rvnft02lr5w0000gn/T/ipykernel_39481/2295822892.py:1: FutureWarning: The default of observed=False is deprecated and will be changed to True in a future version of pandas. Pass observed=False to retain current behavior or observed=True to adopt the future default and silence this warning.\n",
      "  props=df_stck.groupby('job_sat')['age_cat'].value_counts(normalize=True) # Mutluluk duzeyi sutununa gore yas sutununun kategorik toplami.\n"
     ]
    }
   ],
   "source": [
    "props=df_stck.groupby('job_sat')['age_cat'].value_counts(normalize=True) # Mutluluk duzeyi sutununa gore yas sutununun kategorik toplami."
   ]
  },
  {
   "cell_type": "code",
   "execution_count": 1803,
   "id": "820c6663-680b-451b-b30a-5ef2da95d5fb",
   "metadata": {
    "scrolled": true
   },
   "outputs": [
    {
     "data": {
      "text/html": [
       "<div>\n",
       "<style scoped>\n",
       "    .dataframe tbody tr th:only-of-type {\n",
       "        vertical-align: middle;\n",
       "    }\n",
       "\n",
       "    .dataframe tbody tr th {\n",
       "        vertical-align: top;\n",
       "    }\n",
       "\n",
       "    .dataframe thead th {\n",
       "        text-align: right;\n",
       "    }\n",
       "</style>\n",
       "<table border=\"1\" class=\"dataframe\">\n",
       "  <thead>\n",
       "    <tr style=\"text-align: right;\">\n",
       "      <th>age_cat</th>\n",
       "      <th>At least 30</th>\n",
       "      <th>Under 30</th>\n",
       "    </tr>\n",
       "    <tr>\n",
       "      <th>job_sat</th>\n",
       "      <th></th>\n",
       "      <th></th>\n",
       "    </tr>\n",
       "  </thead>\n",
       "  <tbody>\n",
       "    <tr>\n",
       "      <th>Very dissatisfied</th>\n",
       "      <td>0.490566</td>\n",
       "      <td>0.509434</td>\n",
       "    </tr>\n",
       "    <tr>\n",
       "      <th>Slightly dissatisfied</th>\n",
       "      <td>0.467836</td>\n",
       "      <td>0.532164</td>\n",
       "    </tr>\n",
       "    <tr>\n",
       "      <th>Neither</th>\n",
       "      <td>0.432836</td>\n",
       "      <td>0.567164</td>\n",
       "    </tr>\n",
       "    <tr>\n",
       "      <th>Slightly satisfied</th>\n",
       "      <td>0.435294</td>\n",
       "      <td>0.564706</td>\n",
       "    </tr>\n",
       "    <tr>\n",
       "      <th>Very satisfied</th>\n",
       "      <td>0.488055</td>\n",
       "      <td>0.511945</td>\n",
       "    </tr>\n",
       "  </tbody>\n",
       "</table>\n",
       "</div>"
      ],
      "text/plain": [
       "age_cat                At least 30  Under 30\n",
       "job_sat                                     \n",
       "Very dissatisfied         0.490566  0.509434\n",
       "Slightly dissatisfied     0.467836  0.532164\n",
       "Neither                   0.432836  0.567164\n",
       "Slightly satisfied        0.435294  0.564706\n",
       "Very satisfied            0.488055  0.511945"
      ]
     },
     "execution_count": 1803,
     "metadata": {},
     "output_type": "execute_result"
    }
   ],
   "source": [
    "wide_props=props.unstack() # Yukaridaki kodu df e cevirir.\n",
    "\n",
    "wide_props"
   ]
  },
  {
   "cell_type": "code",
   "execution_count": 1843,
   "id": "c9a8a120-e9a9-4ba2-8161-617279e0eb15",
   "metadata": {},
   "outputs": [
    {
     "data": {
      "text/plain": [
       "<Axes: xlabel='job_sat'>"
      ]
     },
     "execution_count": 1843,
     "metadata": {},
     "output_type": "execute_result"
    },
    {
     "data": {
      "image/png": "[encoded data removed]",
      "text/plain": [
       "<Figure size 640x480 with 1 Axes>"
      ]
     },
     "metadata": {},
     "output_type": "display_data"
    },
    {
     "data": {
      "image/png": "[encoded data removed]",
      "text/plain": [
       "<Figure size 640x480 with 1 Axes>"
      ]
     },
     "metadata": {},
     "output_type": "display_data"
    }
   ],
   "source": [
    "wide_props.plot(kind='bar',stacked=False) # Verilerin bar grafigini cizdirdik, stacked grafiklerin ust uste ya da ayri cizilmesini saglar.\n",
    "wide_props.plot(kind='bar',stacked=True) # stacked True."
   ]
  },
  {
   "cell_type": "code",
   "execution_count": 1809,
   "id": "204866c7-8010-45ba-8b54-399d5946bfdb",
   "metadata": {},
   "outputs": [],
   "source": [
    "##### KUTU GRAFIGI :"
   ]
  },
  {
   "cell_type": "code",
   "execution_count": 1811,
   "id": "bbc1109d-6707-48ab-8e7e-af446bc887f4",
   "metadata": {},
   "outputs": [
    {
     "data": {
      "text/plain": [
       "<Axes: xlabel='converted_comp', ylabel='job_sat'>"
      ]
     },
     "execution_count": 1811,
     "metadata": {},
     "output_type": "execute_result"
    },
    {
     "data": {
      "image/png": "[encoded data removed]",
      "text/plain": [
       "<Figure size 640x480 with 1 Axes>"
      ]
     },
     "metadata": {},
     "output_type": "display_data"
    }
   ],
   "source": [
    "sns.boxplot(x='converted_comp',y='job_sat',data=df_stck) # Iki sutun iliskisinin kutu grafigi."
   ]
  },
  {
   "cell_type": "code",
   "execution_count": 1813,
   "id": "f1f0aecc-c3a3-457f-93dc-aacbd2c467c3",
   "metadata": {},
   "outputs": [],
   "source": [
    "##### BAR GRAFIGI 2 :"
   ]
  },
  {
   "cell_type": "code",
   "execution_count": 1815,
   "id": "4642c98f-518e-417c-8746-ee9445e5c92b",
   "metadata": {},
   "outputs": [
    {
     "data": {
      "text/plain": [
       "<matplotlib.legend.Legend at 0x168fcb920>"
      ]
     },
     "execution_count": 1815,
     "metadata": {},
     "output_type": "execute_result"
    },
    {
     "data": {
      "image/png": "[encoded data removed]",
      "text/plain": [
       "<Figure size 640x480 with 1 Axes>"
      ]
     },
     "metadata": {},
     "output_type": "display_data"
    }
   ],
   "source": [
    "plt.bar(purple_link_counts['purple_link'],purple_link_counts['n'],label='Observed',color='Red') # Gozlemlenen degerlerin grafigini cizer.\n",
    "\n",
    "plt.bar(hypothesized['purple_link'],hypothesized['n'],label='Hypothesized',color='blue',alpha=0.5) \n",
    "\n",
    "# Beklenen degerlerin grafigini cizer.\n",
    "# alpha degeri seffaflik seviyesini belirler.\n",
    "\n",
    "plt.legend() # Her renk icin aciklama ekler (sol ust)."
   ]
  }
 ],
 "metadata": {
  "kernelspec": {
   "display_name": "Python 3 (ipykernel)",
   "language": "python",
   "name": "python3"
  },
  "language_info": {
   "codemirror_mode": {
    "name": "ipython",
    "version": 3
   },
   "file_extension": ".py",
   "mimetype": "text/x-python",
   "name": "python",
   "nbconvert_exporter": "python",
   "pygments_lexer": "ipython3",
   "version": "3.12.7"
  }
 },
 "nbformat": 4,
 "nbformat_minor": 5
}
